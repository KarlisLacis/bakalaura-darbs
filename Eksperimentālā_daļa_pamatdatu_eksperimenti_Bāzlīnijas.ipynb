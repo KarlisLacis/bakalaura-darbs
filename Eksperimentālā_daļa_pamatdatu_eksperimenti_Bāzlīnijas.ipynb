{
  "nbformat": 4,
  "nbformat_minor": 0,
  "metadata": {
    "colab": {
      "name": "2020_05_23_pamatdatu_eksperimenti_Bāzlīnijas_2.ipynb",
      "provenance": [],
      "collapsed_sections": []
    },
    "kernelspec": {
      "name": "python3",
      "display_name": "Python 3"
    }
  },
  "cells": [
    {
      "cell_type": "markdown",
      "metadata": {
        "id": "EuzHwJBiIVE1",
        "colab_type": "text"
      },
      "source": [
        "<pre>\n",
        "Jautājumu tips  Skaits     Klases nr\n",
        "citi             23025             1\n",
        "darbalaiks         122             2\n",
        "akademisks          46             0\n",
        "dokumenti           24             3"
      ]
    },
    {
      "cell_type": "code",
      "metadata": {
        "id": "D2_ofjXnRMiw",
        "colab_type": "code",
        "colab": {}
      },
      "source": [
        "from google.colab import drive\n",
        "drive.mount('/gdrive')\n",
        "%cd '/gdrive/My Drive/LU/LU DF/8. semestris/Bakalaura Darbs/Datasets'\n",
        "import warnings\n",
        "warnings.filterwarnings('ignore')"
      ],
      "execution_count": 0,
      "outputs": []
    },
    {
      "cell_type": "code",
      "metadata": {
        "id": "GCG-9b-cvNHw",
        "colab_type": "code",
        "outputId": "8bbd1972-6de9-40de-8e34-9746be865dbd",
        "colab": {
          "base_uri": "https://localhost:8080/",
          "height": 159
        }
      },
      "source": [
        "import pandas as pd\n",
        "dataset = pd.read_csv('sakotneja_jautajumu_kopa.csv', index_col=0)\n",
        "print(dataset.shape)\n",
        "dataset.head(3)"
      ],
      "execution_count": 0,
      "outputs": [
        {
          "output_type": "stream",
          "text": [
            "(23217, 5)\n"
          ],
          "name": "stdout"
        },
        {
          "output_type": "execute_result",
          "data": {
            "text/html": [
              "<div>\n",
              "<style scoped>\n",
              "    .dataframe tbody tr th:only-of-type {\n",
              "        vertical-align: middle;\n",
              "    }\n",
              "\n",
              "    .dataframe tbody tr th {\n",
              "        vertical-align: top;\n",
              "    }\n",
              "\n",
              "    .dataframe thead th {\n",
              "        text-align: right;\n",
              "    }\n",
              "</style>\n",
              "<table border=\"1\" class=\"dataframe\">\n",
              "  <thead>\n",
              "    <tr style=\"text-align: right;\">\n",
              "      <th></th>\n",
              "      <th>Topic ID</th>\n",
              "      <th>Question</th>\n",
              "      <th>is_annotated</th>\n",
              "      <th>label</th>\n",
              "      <th>Encoded labels</th>\n",
              "    </tr>\n",
              "  </thead>\n",
              "  <tbody>\n",
              "    <tr>\n",
              "      <th>0</th>\n",
              "      <td>210</td>\n",
              "      <td>1. septembrī var noslēgt DV līgumu? Un ja var,...</td>\n",
              "      <td>True</td>\n",
              "      <td>darbalaiks</td>\n",
              "      <td>2</td>\n",
              "    </tr>\n",
              "    <tr>\n",
              "      <th>1</th>\n",
              "      <td>224</td>\n",
              "      <td>Un kā strādās bibliotēka?</td>\n",
              "      <td>True</td>\n",
              "      <td>darbalaiks</td>\n",
              "      <td>2</td>\n",
              "    </tr>\n",
              "    <tr>\n",
              "      <th>2</th>\n",
              "      <td>229</td>\n",
              "      <td>Kāds ir darba laiks 119.kab. piektdienā??? Lūd...</td>\n",
              "      <td>True</td>\n",
              "      <td>darbalaiks</td>\n",
              "      <td>2</td>\n",
              "    </tr>\n",
              "  </tbody>\n",
              "</table>\n",
              "</div>"
            ],
            "text/plain": [
              "   Topic ID  ... Encoded labels\n",
              "0       210  ...              2\n",
              "1       224  ...              2\n",
              "2       229  ...              2\n",
              "\n",
              "[3 rows x 5 columns]"
            ]
          },
          "metadata": {
            "tags": []
          },
          "execution_count": 2
        }
      ]
    },
    {
      "cell_type": "code",
      "metadata": {
        "id": "Vuw6XZEnaxKU",
        "colab_type": "code",
        "outputId": "230cd027-d84a-42d7-a37c-ab32f6b7b1df",
        "colab": {
          "base_uri": "https://localhost:8080/",
          "height": 292
        }
      },
      "source": [
        "import numpy as np\n",
        "X = dataset['Question'].values.astype('str')\n",
        "Y = dataset['Encoded labels']\n",
        "for i in range(15):\n",
        "  print(X[i*i], Y[i*i])"
      ],
      "execution_count": 0,
      "outputs": [
        {
          "output_type": "stream",
          "text": [
            "1. septembrī var noslēgt DV līgumu? Un ja var, tad ir tas pats darba laiks no 10.00 - 17.00? 2\n",
            "Un kā strādās bibliotēka? 2\n",
            "Vai kāds zina, kāds būs darba laiks 28. augustā Studentu apkalpošanas birojā MVF? 2\n",
            "Sveiki! Gribēju uzzināt, kā var paņemt gada pārtraukumu aktīvajās studijās - t.s. akadēmisko gadu? Vai tādā gadījumā es nezaudēju savu budžeta vietu? Kur par to var uzzināt kaut ko vairāk? Paldies. 0\n",
            "Labvakar! Sakiet, lūdzu, kas nepieciešams, ja gribu ņemt akadēmisko (esmu 2. kursā). Vai tiks man pagarināta skudenta apliecība, vai skaitīšos, ka esmu students? Paldies 0\n",
            "Gribēju uzzināt, kad raksta iesniegumu akadēmiskā atvaļinājuma ņemšanai, vai obligāti ir jābūt kādam pielikumam. Tajā formā, kas ir pie dokumentiem, ir atvēlēta vieta pielikumam. Kā arī vai var paņemt akadēmisko atvaļinājumu, ja ir parāds, un vai obligāti ir jābūt ārsta izrakstam, vai arī drīkst rakstīt, ka personisku iemeslu dēļ? Cik sīki jāpamato iemesls, kādēļ vēlas pārtraukt uz laiku studijas? 0\n",
            "Vai ir iespējas paņemt akadēmisko gadu, ja ir nenokārtots parāds? 0\n",
            "Labdien! Iestājos maģistratūrā, budžetā, sakiet, lūdzu, vai vajadzības gadījumā man ir iespēja izmantot akadēmisko gadu 1. kursā un studijas uzsākt nākošgad ar šādiem pašiem noteiktumiem? Kā tas mainītu manu situāciju? Nespēju atrast šādu info LU lapā, bet liels paldies, ja kāds norādītu, kur to meklēt! Paldies! 0\n",
            "Kāds ir darba grafiks bibliotēkai Kalpaka ielā no 30. aprīļa līdz 4. maijam???  2\n",
            "Es gribētu uzzināt, vai Ekonomikas un Vadības fakultātes lietvežu un atbilgo par rotāciju darba laikus, un vai viņi strādā sestdienās? 2\n",
            "Sakiet, lūdzu, kādiem dokumentiem jābūt līdzi, kad atnāksu pieteikties studijām? Ja vēlos pieteikties dažādām programmām, kādiem dokumentiem jābūt? 3\n",
            "Labrīt, vēlos uzzināt par dokumentu kopijām: atestāta, VISC sertifikāta un sekmju izraksta. Vai man ir pašam jāsagatavo šo dokumentu kopijas, vai arī tos nokopēs, kad es uzrādīšu orģinālus kādā no pieteikumu punktiem. Atvainojos, ja šāds jautājums jau ir bijis, neesmu sekojis līdzi šim forumam. Paldies! 3\n",
            "Kāds zina, vai katedra arī sestdienās strādā? 2\n",
            "Un kāds ir darba laiks metodiķei??? 2\n",
            "Sveicināti! Šodien nejauši  \"uzdūros\" VIAA forumā  jautājumam, vai zinātniskā grāda pretendenti pēc pozitīvi novērtētām doktora studijām būtu tiesīgi saņemt ESF stipendijas automātiski vai arī būtu jārīko konkurss. VIAA atbild, ka konkurss nebūtu jārīko, jo, kā nosaka MK nolikums, grāda pretendenti to jau izturējuši iepriekšējā konkursā ( un saņemts arī pozitīvs vērtējums  doktorantūras studijās). Kāpēc LU tomēr rīko atsevīšķu ESF stipendiju konkursu zinātniskā grāda pretendentiem? Paldies par atbildi! 1\n"
          ],
          "name": "stdout"
        }
      ]
    },
    {
      "cell_type": "markdown",
      "metadata": {
        "id": "MpO65x6LyHIt",
        "colab_type": "text"
      },
      "source": [
        "<h2>Datu tīrīšana</h2>"
      ]
    },
    {
      "cell_type": "code",
      "metadata": {
        "id": "4Q1BLNLlyKHN",
        "colab_type": "code",
        "outputId": "16f96384-f8f7-49ee-a867-bfc058ac6faf",
        "colab": {
          "base_uri": "https://localhost:8080/",
          "height": 207
        }
      },
      "source": [
        "for i in range(10):\n",
        "  print(X[i])"
      ],
      "execution_count": 0,
      "outputs": [
        {
          "output_type": "stream",
          "text": [
            "1. septembrī var noslēgt DV līgumu? Un ja var, tad ir tas pats darba laiks no 10.00 - 17.00?\n",
            "Un kā strādās bibliotēka?\n",
            "Kāds ir darba laiks 119.kab. piektdienā??? Lūdzu, atbildiet, ja kāds to zina.\n",
            "Sveikiņi visiem, sakiet, lūdzu, vai abas dienas (23., 24. jūnijs) skaitās kā brīvdienas vai arī vienā no tām lietvedes, bibliotēkas un pārējie tomēr strādās?\n",
            "Vai kāds zina, kāds būs darba laiks 28. augustā Studentu apkalpošanas birojā MVF?\n",
            "Kā var paņemt akadēmisko, ja es mācos EVF?\n",
            "Studēju Vadības zinības. Kā ir iespējams nokārtot akadēmisko gadu? Pie kā jāvēršas? Un vai to visu var darīt cits cilvēks, ja es vairs neesmu Latvijā?\n",
            "Sveiki, jautājums tāds, cik akadēmiskos var ņemt pēc kārtas? Lieta tāda, ka esmu devusies studēt uz ārzemēm, bet man tur jāpaliek vēl viens gads, pašlaik skaitos, ka esmu akadēmiskajā, vai to var pagarināt uz nākamo gadu arī? Ja var, kur griezties EVF?\n",
            "Vai ir iespējams pēc bakalaura saņemšanas iestāties maģistros un uzreiz paņemt akadēmisko?\n",
            "Sveiki! Gribēju uzzināt, kā var paņemt gada pārtraukumu aktīvajās studijās - t.s. akadēmisko gadu? Vai tādā gadījumā es nezaudēju savu budžeta vietu? Kur par to var uzzināt kaut ko vairāk? Paldies.\n"
          ],
          "name": "stdout"
        }
      ]
    },
    {
      "cell_type": "code",
      "metadata": {
        "id": "wMd3uDYZybyW",
        "colab_type": "code",
        "colab": {}
      },
      "source": [
        "# Latvian stopwords found here - https://countwordsfree.com/stopwords/latvian\n",
        "STOPWORDS = [\"aiz\",\"ap\",\"ar\",\"apakš\",\"ārpus\",\"augšpus\",\"bez\",\"caur\",\"dēļ\",\"gar\",\"iekš\",\"iz\",\"kopš\",\"labad\",\"lejpus\",\"līdz\",\"no\",\"otrpus\",\"pa\",\"par\",\"pār\",\"pēc\",\"pie\",\"pirms\",\"pret\",\"priekš\",\"starp\",\"šaipus\",\"uz\",\"viņpus\",\"virs\",\"virspus\",\"zem\",\"apakšpus\",\"un\",\"bet\",\"jo\",\"ja\",\"ka\",\"lai\",\"tomēr\",\"tikko\",\"turpretī\",\"arī\",\"kaut\",\"gan\",\"tādēļ\",\"tā\",\"ne\",\"tikvien\",\"vien\",\"kā\",\"ir\",\"te\",\"vai\",\"kamēr\",\"diezin\",\"droši\",\"diemžēl\",\"nebūt\",\"ik\",\"it\",\"taču\",\"nu\",\"pat\",\"tiklab\",\"iekšpus\",\"nedz\",\"tik\",\"nevis\",\"turpretim\",\"jeb\",\"iekam\",\"iekām\",\"iekāms\",\"kolīdz\",\"līdzko\",\"tiklīdz\",\"jebšu\",\"tālab\",\"tāpēc\",\"nekā\",\"itin\",\"jā\",\"jau\",\"jel\",\"nē\",\"nezin\",\"tad\",\"tikai\",\"vis\",\"tak\",\"iekams\",\"būt\",\"biju\",\"biji\",\"bija\",\"bijām\",\"bijāt\",\"esmu\",\"esi\",\"esam\",\"esat\",\"būšu\",\"būsi\",\"būs\",\"būsim\",\"būsiet\",\"tikt\",\"tiku\",\"tiki\",\"tika\",\"tikām\",\"tikāt\",\"tieku\",\"tiec\",\"tiek\",\"tiekam\",\"tiekat\",\"tikšu\",\"tiks\",\"tiksim\",\"tiksiet\",\"tapt\",\"tapi\",\"tapāt\",\"topat\",\"tapšu\",\"tapsi\",\"taps\",\"tapsim\",\"tapsiet\",\"kļūt\",\"kļuvu\",\"kļuvi\",\"kļuva\",\"kļuvām\",\"kļuvāt\",\"kļūstu\",\"kļūsti\",\"kļūst\",\"kļūstam\",\"kļūstat\",\"kļūšu\",\"kļūsi\",\"kļūs\",\"kļūsim\",\"kļūsiet\",\"varēt\",\"varēju\",\"varējām\",\"varēšu\",\"varēsim\",\"var\",\"varēji\",\"varējāt\",\"varēsi\",\"varēsiet\",\"varat\",\"varēja\",\"varēs\"]"
      ],
      "execution_count": 0,
      "outputs": []
    },
    {
      "cell_type": "code",
      "metadata": {
        "id": "qnXrMnK0ybud",
        "colab_type": "code",
        "colab": {}
      },
      "source": [
        "# Piemērs tīrīšanai aizgūts no - https://towardsdatascience.com/multi-class-text-classification-model-comparison-and-selection-5eb066197568\n",
        "import re\n",
        "from bs4 import BeautifulSoup\n",
        "REPLACE_BY_SPACE_RE = re.compile('[/(){}\\[\\]\\|@,;.]')                           # šie simboli tiks aizstāti ar tukšumu\n",
        "BAD_SYMBOLS_RE = re.compile('[^a-z ēūīāšģķļžčņ]')                               # no teksta tiks izmesti visi simboli, kas nav šo simbolu sarakstā\n",
        "STOPWORDS = set(STOPWORDS)                                                      # tiks izmesti visi stopvārdi\n",
        "\n",
        "def clean_text(text):\n",
        "    text = BeautifulSoup(text, \"lxml\").text # HTML decoding\n",
        "    text = text.lower() # lowercase text\n",
        "    text = REPLACE_BY_SPACE_RE.sub(' ', text) # replace REPLACE_BY_SPACE_RE symbols by space in text\n",
        "    text = BAD_SYMBOLS_RE.sub('', text) # delete symbols which are in BAD_SYMBOLS_RE from text\n",
        "    text = ' '.join(word for word in text.split() if word not in STOPWORDS) # delete stopwors from text\n",
        "    return text"
      ],
      "execution_count": 0,
      "outputs": []
    },
    {
      "cell_type": "code",
      "metadata": {
        "id": "u4BQWEYb0FTh",
        "colab_type": "code",
        "colab": {}
      },
      "source": [
        "clean_questions = []\n",
        "for question in X:\n",
        "  clean_question = clean_text(question)\n",
        "  clean_questions.append(clean_question)"
      ],
      "execution_count": 0,
      "outputs": []
    },
    {
      "cell_type": "code",
      "metadata": {
        "id": "pxAZwAIbVu9R",
        "colab_type": "code",
        "outputId": "11299bc2-682f-4a9b-ed9c-129d599050cf",
        "colab": {
          "base_uri": "https://localhost:8080/",
          "height": 187
        }
      },
      "source": [
        "X = clean_questions\n",
        "for i in range(10):\n",
        "  print(X[i])"
      ],
      "execution_count": 0,
      "outputs": [
        {
          "output_type": "stream",
          "text": [
            "septembrī noslēgt dv līgumu tas pats darba laiks\n",
            "strādās bibliotēka\n",
            "kāds darba laiks kab piektdienā lūdzu atbildiet kāds to zina\n",
            "sveikiņi visiem sakiet lūdzu abas dienas jūnijs skaitās brīvdienas vienā tām lietvedes bibliotēkas pārējie strādās\n",
            "kāds zina kāds darba laiks augustā studentu apkalpošanas birojā mvf\n",
            "paņemt akadēmisko es mācos evf\n",
            "studēju vadības zinības iespējams nokārtot akadēmisko gadu jāvēršas to visu darīt cits cilvēks es vairs neesmu latvijā\n",
            "sveiki jautājums tāds cik akadēmiskos ņemt kārtas lieta tāda devusies studēt ārzemēm man tur jāpaliek vēl viens gads pašlaik skaitos akadēmiskajā to pagarināt nākamo gadu kur griezties evf\n",
            "iespējams bakalaura saņemšanas iestāties maģistros uzreiz paņemt akadēmisko\n",
            "sveiki gribēju uzzināt paņemt gada pārtraukumu aktīvajās studijās t s akadēmisko gadu tādā gadījumā es nezaudēju savu budžeta vietu kur to uzzināt ko vairāk paldies\n"
          ],
          "name": "stdout"
        }
      ]
    },
    {
      "cell_type": "markdown",
      "metadata": {
        "id": "2NlpB_CaVBUv",
        "colab_type": "text"
      },
      "source": [
        "<h2>Eksperimenti</h2>\n"
      ]
    },
    {
      "cell_type": "code",
      "metadata": {
        "id": "WAotUYddRhLZ",
        "colab_type": "code",
        "colab": {}
      },
      "source": [
        "def transformResults(results):\n",
        "    mod_results = []\n",
        "    for result in results:\n",
        "        out = np.argmax(result)\n",
        "        mod_results.append(out)\n",
        "    mod_results = np.array(mod_results)   \n",
        "    return mod_results "
      ],
      "execution_count": 0,
      "outputs": []
    },
    {
      "cell_type": "code",
      "metadata": {
        "id": "qJozep4bOM2P",
        "colab_type": "code",
        "outputId": "7b50043d-ea27-4fe6-c6f0-b48a3df3a60b",
        "colab": {
          "base_uri": "https://localhost:8080/",
          "height": 1000
        }
      },
      "source": [
        "import datetime\n",
        "from sklearn.naive_bayes import MultinomialNB\n",
        "from sklearn.metrics import f1_score, confusion_matrix\n",
        "from sklearn.model_selection import StratifiedKFold\n",
        "from keras.preprocessing import text\n",
        "from keras import models, layers\n",
        "n_split = 5                                                                     # at each fold, we use 80% / 20% split\n",
        "\n",
        "exec_start = datetime.datetime.now()\n",
        "sizes = [100, 200, 300, 400, 500, 750, 1000, 2000, 3000, 4000, 5000, 6000, 7000, 8000, 9000, 10000]\n",
        "result_table = []\n",
        "result_header = ['Vārdnīcas izmērs', 'Naive Bayes', '2 slāņu neironu tīkls']\n",
        "result_table.append(result_header)\n",
        "\n",
        "for max_words in sizes:\n",
        "  result_row = []\n",
        "  result_row.append(max_words)\n",
        "  \n",
        "  # Text pre-processing\n",
        "  tokenize = text.Tokenizer(num_words=max_words, char_level=False)              # izveidojam Tokenizer ar noteikto vārdnīcas izmēru\n",
        "  tokenize.fit_on_texts(X)                                                      # apmācām Tokenizer uz mūsu datiem\n",
        "  X2 = tokenize.texts_to_matrix(X)                                              # pārveidojam treniņdatus par tekstvienību vektoriem\n",
        "  print('Tokenizer done:', max_words, X2.shape)\n",
        "\n",
        "  f1_scores_naive = []                                                          # Creating an empty array of f1 scores \n",
        "  f1_scores_keras = []\n",
        "  counter = 0\n",
        "  for train_index,test_index in StratifiedKFold(n_split).split(X2, Y):\n",
        "    # creating train and test datasets\n",
        "    x_train,x_test=X2[train_index],X2[test_index]\n",
        "    y_train,y_test=Y[train_index],Y[test_index]\n",
        "\n",
        "    ### Naive Bayes ###\n",
        "    naive_bayes = MultinomialNB()                                               # Izveidojam Naive Bayes modeli\n",
        "    naive_bayes.fit(x_train, y_train)                                           # Trenējam modeli uz treniņdatiem\n",
        "    naive_y_pred = naive_bayes.predict(x_test)\n",
        "    naive_f1_avg = round(f1_score(y_test, naive_y_pred, average='macro'),4)     # Fiksējam Naive Bayes f1 vidējo rezultātu\n",
        "\n",
        "    f1_scores_naive.append(naive_f1_avg)\n",
        "\n",
        "    ### Keras Sequential ###\n",
        "    model = models.Sequential()\n",
        "    model.add(layers.Dense(256, activation='relu', input_shape=(max_words,)))\n",
        "    model.add(layers.Dense(64, activation='relu'))\n",
        "    model.add(layers.Dense(4, activation='softmax'))\n",
        "\n",
        "    model.compile(loss=['sparse_categorical_crossentropy'],\n",
        "                optimizer='adam',\n",
        "                metrics=['sparse_categorical_crossentropy'])\n",
        "    batch_size = 64\n",
        "    epochs = 5\n",
        "    history = model.fit(x_train, y_train,\n",
        "                        batch_size=batch_size,\n",
        "                        epochs=epochs,\n",
        "                        verbose=0)\n",
        "    y_pred = model.predict(x_test)                                              # Prasam modelim paredzēt testa datiem kategorijas\n",
        "    keras_y_pred = transformResults(y_pred)                                     # Pārveidojam rezultātus, paņemot ticamāko klasi no varbūtībām\n",
        "    keras_f1_avg = round(f1_score(y_test, keras_y_pred, average='macro'),4)     # Fiksējam Naive Bayes f1 vidējo rezultātu\n",
        "    f1_scores_keras.append(keras_f1_avg)\n",
        "    counter = counter + 1\n",
        "    print('\\tCompleted for vocabulary size:', max_words,' K-Fold #',counter, ' Naive Bayes score:',naive_f1_avg, ' Keras score:',keras_f1_avg)\n",
        "    \n",
        "  #After the K-Fold validation\n",
        "  f1_avg_naive = round(np.mean(f1_scores_naive), 4)\n",
        "  f1_avg_keras = round(np.mean(f1_scores_keras),4)\n",
        "  print('    Completed for vocabulary size:', max_words,' Naive Bayes score:',f1_avg_naive, ' Keras score:',f1_avg_keras)\n",
        "  result_row.append(f1_avg_naive)\n",
        "  result_row.append(f1_avg_keras)\n",
        "  result_table.append(result_row)\n",
        "#In the very end - fix the execution time\n",
        "exec_end = datetime.datetime.now()\n",
        "exec_elapsed = exec_end - exec_start\n",
        "print('Total time elapsed:', exec_elapsed)\n",
        "result_data = pd.DataFrame(result_table[1:], columns=result_table[0])\n",
        "result_data.to_csv('2020_05_23_Baseline_results_pamatdati.csv')\n",
        "result_data"
      ],
      "execution_count": 0,
      "outputs": [
        {
          "output_type": "stream",
          "text": [
            "Using TensorFlow backend.\n"
          ],
          "name": "stderr"
        },
        {
          "output_type": "stream",
          "text": [
            "Tokenizer done: 100 (23217, 100)\n",
            "\tCompleted for vocabulary size: 100  K-Fold # 1  Naive Bayes score: 0.3077  Keras score: 0.4083\n",
            "\tCompleted for vocabulary size: 100  K-Fold # 2  Naive Bayes score: 0.2488  Keras score: 0.2791\n",
            "\tCompleted for vocabulary size: 100  K-Fold # 3  Naive Bayes score: 0.3659  Keras score: 0.3854\n",
            "\tCompleted for vocabulary size: 100  K-Fold # 4  Naive Bayes score: 0.318  Keras score: 0.3297\n",
            "\tCompleted for vocabulary size: 100  K-Fold # 5  Naive Bayes score: 0.3597  Keras score: 0.3459\n",
            "    Completed for vocabulary size: 100  Naive Bayes score: 0.32  Keras score: 0.3497\n",
            "Tokenizer done: 200 (23217, 200)\n",
            "\tCompleted for vocabulary size: 200  K-Fold # 1  Naive Bayes score: 0.3467  Keras score: 0.4065\n",
            "\tCompleted for vocabulary size: 200  K-Fold # 2  Naive Bayes score: 0.2487  Keras score: 0.3114\n",
            "\tCompleted for vocabulary size: 200  K-Fold # 3  Naive Bayes score: 0.3945  Keras score: 0.3963\n",
            "\tCompleted for vocabulary size: 200  K-Fold # 4  Naive Bayes score: 0.3277  Keras score: 0.3777\n",
            "\tCompleted for vocabulary size: 200  K-Fold # 5  Naive Bayes score: 0.4018  Keras score: 0.4078\n",
            "    Completed for vocabulary size: 200  Naive Bayes score: 0.3439  Keras score: 0.3799\n",
            "Tokenizer done: 300 (23217, 300)\n",
            "\tCompleted for vocabulary size: 300  K-Fold # 1  Naive Bayes score: 0.4089  Keras score: 0.459\n",
            "\tCompleted for vocabulary size: 300  K-Fold # 2  Naive Bayes score: 0.3895  Keras score: 0.2973\n",
            "\tCompleted for vocabulary size: 300  K-Fold # 3  Naive Bayes score: 0.4325  Keras score: 0.4114\n",
            "\tCompleted for vocabulary size: 300  K-Fold # 4  Naive Bayes score: 0.495  Keras score: 0.4735\n",
            "\tCompleted for vocabulary size: 300  K-Fold # 5  Naive Bayes score: 0.4957  Keras score: 0.4695\n",
            "    Completed for vocabulary size: 300  Naive Bayes score: 0.4443  Keras score: 0.4221\n",
            "Tokenizer done: 400 (23217, 400)\n",
            "\tCompleted for vocabulary size: 400  K-Fold # 1  Naive Bayes score: 0.4446  Keras score: 0.4821\n",
            "\tCompleted for vocabulary size: 400  K-Fold # 2  Naive Bayes score: 0.4034  Keras score: 0.2834\n",
            "\tCompleted for vocabulary size: 400  K-Fold # 3  Naive Bayes score: 0.4761  Keras score: 0.5115\n",
            "\tCompleted for vocabulary size: 400  K-Fold # 4  Naive Bayes score: 0.4676  Keras score: 0.3977\n",
            "\tCompleted for vocabulary size: 400  K-Fold # 5  Naive Bayes score: 0.5047  Keras score: 0.508\n",
            "    Completed for vocabulary size: 400  Naive Bayes score: 0.4593  Keras score: 0.4365\n",
            "Tokenizer done: 500 (23217, 500)\n",
            "\tCompleted for vocabulary size: 500  K-Fold # 1  Naive Bayes score: 0.428  Keras score: 0.485\n",
            "\tCompleted for vocabulary size: 500  K-Fold # 2  Naive Bayes score: 0.3595  Keras score: 0.3406\n",
            "\tCompleted for vocabulary size: 500  K-Fold # 3  Naive Bayes score: 0.4792  Keras score: 0.4232\n",
            "\tCompleted for vocabulary size: 500  K-Fold # 4  Naive Bayes score: 0.4457  Keras score: 0.451\n",
            "\tCompleted for vocabulary size: 500  K-Fold # 5  Naive Bayes score: 0.4487  Keras score: 0.4873\n",
            "    Completed for vocabulary size: 500  Naive Bayes score: 0.4322  Keras score: 0.4374\n",
            "Tokenizer done: 750 (23217, 750)\n",
            "\tCompleted for vocabulary size: 750  K-Fold # 1  Naive Bayes score: 0.4249  Keras score: 0.4296\n",
            "\tCompleted for vocabulary size: 750  K-Fold # 2  Naive Bayes score: 0.4731  Keras score: 0.327\n",
            "\tCompleted for vocabulary size: 750  K-Fold # 3  Naive Bayes score: 0.4574  Keras score: 0.4071\n",
            "\tCompleted for vocabulary size: 750  K-Fold # 4  Naive Bayes score: 0.4945  Keras score: 0.5252\n",
            "\tCompleted for vocabulary size: 750  K-Fold # 5  Naive Bayes score: 0.4843  Keras score: 0.507\n",
            "    Completed for vocabulary size: 750  Naive Bayes score: 0.4668  Keras score: 0.4392\n",
            "Tokenizer done: 1000 (23217, 1000)\n",
            "\tCompleted for vocabulary size: 1000  K-Fold # 1  Naive Bayes score: 0.4313  Keras score: 0.499\n",
            "\tCompleted for vocabulary size: 1000  K-Fold # 2  Naive Bayes score: 0.4457  Keras score: 0.3571\n",
            "\tCompleted for vocabulary size: 1000  K-Fold # 3  Naive Bayes score: 0.4277  Keras score: 0.4159\n",
            "\tCompleted for vocabulary size: 1000  K-Fold # 4  Naive Bayes score: 0.5138  Keras score: 0.4799\n",
            "\tCompleted for vocabulary size: 1000  K-Fold # 5  Naive Bayes score: 0.4749  Keras score: 0.4408\n",
            "    Completed for vocabulary size: 1000  Naive Bayes score: 0.4587  Keras score: 0.4385\n",
            "Tokenizer done: 2000 (23217, 2000)\n",
            "\tCompleted for vocabulary size: 2000  K-Fold # 1  Naive Bayes score: 0.3754  Keras score: 0.5843\n",
            "\tCompleted for vocabulary size: 2000  K-Fold # 2  Naive Bayes score: 0.3785  Keras score: 0.444\n",
            "\tCompleted for vocabulary size: 2000  K-Fold # 3  Naive Bayes score: 0.42  Keras score: 0.4117\n",
            "\tCompleted for vocabulary size: 2000  K-Fold # 4  Naive Bayes score: 0.3912  Keras score: 0.4612\n",
            "\tCompleted for vocabulary size: 2000  K-Fold # 5  Naive Bayes score: 0.3926  Keras score: 0.4614\n",
            "    Completed for vocabulary size: 2000  Naive Bayes score: 0.3915  Keras score: 0.4725\n",
            "Tokenizer done: 3000 (23217, 3000)\n",
            "\tCompleted for vocabulary size: 3000  K-Fold # 1  Naive Bayes score: 0.3878  Keras score: 0.5853\n",
            "\tCompleted for vocabulary size: 3000  K-Fold # 2  Naive Bayes score: 0.3443  Keras score: 0.4385\n",
            "\tCompleted for vocabulary size: 3000  K-Fold # 3  Naive Bayes score: 0.3822  Keras score: 0.3921\n",
            "\tCompleted for vocabulary size: 3000  K-Fold # 4  Naive Bayes score: 0.3622  Keras score: 0.5196\n",
            "\tCompleted for vocabulary size: 3000  K-Fold # 5  Naive Bayes score: 0.3582  Keras score: 0.4117\n",
            "    Completed for vocabulary size: 3000  Naive Bayes score: 0.3669  Keras score: 0.4694\n",
            "Tokenizer done: 4000 (23217, 4000)\n",
            "\tCompleted for vocabulary size: 4000  K-Fold # 1  Naive Bayes score: 0.3849  Keras score: 0.5813\n",
            "\tCompleted for vocabulary size: 4000  K-Fold # 2  Naive Bayes score: 0.3336  Keras score: 0.4234\n",
            "\tCompleted for vocabulary size: 4000  K-Fold # 3  Naive Bayes score: 0.3218  Keras score: 0.46\n",
            "\tCompleted for vocabulary size: 4000  K-Fold # 4  Naive Bayes score: 0.3512  Keras score: 0.523\n",
            "\tCompleted for vocabulary size: 4000  K-Fold # 5  Naive Bayes score: 0.3296  Keras score: 0.4329\n",
            "    Completed for vocabulary size: 4000  Naive Bayes score: 0.3442  Keras score: 0.4841\n",
            "Tokenizer done: 5000 (23217, 5000)\n",
            "\tCompleted for vocabulary size: 5000  K-Fold # 1  Naive Bayes score: 0.3395  Keras score: 0.4961\n",
            "\tCompleted for vocabulary size: 5000  K-Fold # 2  Naive Bayes score: 0.3338  Keras score: 0.5157\n",
            "\tCompleted for vocabulary size: 5000  K-Fold # 3  Naive Bayes score: 0.3012  Keras score: 0.4077\n",
            "\tCompleted for vocabulary size: 5000  K-Fold # 4  Naive Bayes score: 0.2972  Keras score: 0.5196\n",
            "\tCompleted for vocabulary size: 5000  K-Fold # 5  Naive Bayes score: 0.3152  Keras score: 0.4718\n",
            "    Completed for vocabulary size: 5000  Naive Bayes score: 0.3174  Keras score: 0.4822\n",
            "Tokenizer done: 6000 (23217, 6000)\n",
            "\tCompleted for vocabulary size: 6000  K-Fold # 1  Naive Bayes score: 0.3374  Keras score: 0.5109\n",
            "\tCompleted for vocabulary size: 6000  K-Fold # 2  Naive Bayes score: 0.3275  Keras score: 0.4428\n",
            "\tCompleted for vocabulary size: 6000  K-Fold # 3  Naive Bayes score: 0.3042  Keras score: 0.4159\n",
            "\tCompleted for vocabulary size: 6000  K-Fold # 4  Naive Bayes score: 0.3095  Keras score: 0.5308\n",
            "\tCompleted for vocabulary size: 6000  K-Fold # 5  Naive Bayes score: 0.309  Keras score: 0.4737\n",
            "    Completed for vocabulary size: 6000  Naive Bayes score: 0.3175  Keras score: 0.4748\n",
            "Tokenizer done: 7000 (23217, 7000)\n",
            "\tCompleted for vocabulary size: 7000  K-Fold # 1  Naive Bayes score: 0.3182  Keras score: 0.5822\n",
            "\tCompleted for vocabulary size: 7000  K-Fold # 2  Naive Bayes score: 0.3161  Keras score: 0.3872\n",
            "\tCompleted for vocabulary size: 7000  K-Fold # 3  Naive Bayes score: 0.288  Keras score: 0.3992\n",
            "\tCompleted for vocabulary size: 7000  K-Fold # 4  Naive Bayes score: 0.3096  Keras score: 0.5174\n",
            "\tCompleted for vocabulary size: 7000  K-Fold # 5  Naive Bayes score: 0.304  Keras score: 0.5174\n",
            "    Completed for vocabulary size: 7000  Naive Bayes score: 0.3072  Keras score: 0.4807\n",
            "Tokenizer done: 8000 (23217, 8000)\n",
            "\tCompleted for vocabulary size: 8000  K-Fold # 1  Naive Bayes score: 0.3167  Keras score: 0.5029\n",
            "\tCompleted for vocabulary size: 8000  K-Fold # 2  Naive Bayes score: 0.3235  Keras score: 0.4347\n",
            "\tCompleted for vocabulary size: 8000  K-Fold # 3  Naive Bayes score: 0.2763  Keras score: 0.403\n",
            "\tCompleted for vocabulary size: 8000  K-Fold # 4  Naive Bayes score: 0.3145  Keras score: 0.5596\n",
            "\tCompleted for vocabulary size: 8000  K-Fold # 5  Naive Bayes score: 0.2996  Keras score: 0.5317\n",
            "    Completed for vocabulary size: 8000  Naive Bayes score: 0.3061  Keras score: 0.4864\n",
            "Tokenizer done: 9000 (23217, 9000)\n",
            "\tCompleted for vocabulary size: 9000  K-Fold # 1  Naive Bayes score: 0.3095  Keras score: 0.5684\n",
            "\tCompleted for vocabulary size: 9000  K-Fold # 2  Naive Bayes score: 0.289  Keras score: 0.4348\n",
            "\tCompleted for vocabulary size: 9000  K-Fold # 3  Naive Bayes score: 0.2741  Keras score: 0.4031\n",
            "\tCompleted for vocabulary size: 9000  K-Fold # 4  Naive Bayes score: 0.2942  Keras score: 0.6134\n",
            "\tCompleted for vocabulary size: 9000  K-Fold # 5  Naive Bayes score: 0.2948  Keras score: 0.4341\n",
            "    Completed for vocabulary size: 9000  Naive Bayes score: 0.2923  Keras score: 0.4908\n",
            "Tokenizer done: 10000 (23217, 10000)\n",
            "\tCompleted for vocabulary size: 10000  K-Fold # 1  Naive Bayes score: 0.288  Keras score: 0.509\n",
            "\tCompleted for vocabulary size: 10000  K-Fold # 2  Naive Bayes score: 0.2879  Keras score: 0.4421\n",
            "\tCompleted for vocabulary size: 10000  K-Fold # 3  Naive Bayes score: 0.2748  Keras score: 0.4077\n",
            "\tCompleted for vocabulary size: 10000  K-Fold # 4  Naive Bayes score: 0.2648  Keras score: 0.6008\n",
            "\tCompleted for vocabulary size: 10000  K-Fold # 5  Naive Bayes score: 0.2733  Keras score: 0.5382\n",
            "    Completed for vocabulary size: 10000  Naive Bayes score: 0.2778  Keras score: 0.4996\n",
            "Total time elapsed: 0:28:32.786588\n"
          ],
          "name": "stdout"
        },
        {
          "output_type": "execute_result",
          "data": {
            "text/html": [
              "<div>\n",
              "<style scoped>\n",
              "    .dataframe tbody tr th:only-of-type {\n",
              "        vertical-align: middle;\n",
              "    }\n",
              "\n",
              "    .dataframe tbody tr th {\n",
              "        vertical-align: top;\n",
              "    }\n",
              "\n",
              "    .dataframe thead th {\n",
              "        text-align: right;\n",
              "    }\n",
              "</style>\n",
              "<table border=\"1\" class=\"dataframe\">\n",
              "  <thead>\n",
              "    <tr style=\"text-align: right;\">\n",
              "      <th></th>\n",
              "      <th>Vārdnīcas izmērs</th>\n",
              "      <th>Naive Bayes</th>\n",
              "      <th>2 slāņu neironu tīkls</th>\n",
              "    </tr>\n",
              "  </thead>\n",
              "  <tbody>\n",
              "    <tr>\n",
              "      <th>0</th>\n",
              "      <td>100</td>\n",
              "      <td>0.3200</td>\n",
              "      <td>0.3497</td>\n",
              "    </tr>\n",
              "    <tr>\n",
              "      <th>1</th>\n",
              "      <td>200</td>\n",
              "      <td>0.3439</td>\n",
              "      <td>0.3799</td>\n",
              "    </tr>\n",
              "    <tr>\n",
              "      <th>2</th>\n",
              "      <td>300</td>\n",
              "      <td>0.4443</td>\n",
              "      <td>0.4221</td>\n",
              "    </tr>\n",
              "    <tr>\n",
              "      <th>3</th>\n",
              "      <td>400</td>\n",
              "      <td>0.4593</td>\n",
              "      <td>0.4365</td>\n",
              "    </tr>\n",
              "    <tr>\n",
              "      <th>4</th>\n",
              "      <td>500</td>\n",
              "      <td>0.4322</td>\n",
              "      <td>0.4374</td>\n",
              "    </tr>\n",
              "    <tr>\n",
              "      <th>5</th>\n",
              "      <td>750</td>\n",
              "      <td>0.4668</td>\n",
              "      <td>0.4392</td>\n",
              "    </tr>\n",
              "    <tr>\n",
              "      <th>6</th>\n",
              "      <td>1000</td>\n",
              "      <td>0.4587</td>\n",
              "      <td>0.4385</td>\n",
              "    </tr>\n",
              "    <tr>\n",
              "      <th>7</th>\n",
              "      <td>2000</td>\n",
              "      <td>0.3915</td>\n",
              "      <td>0.4725</td>\n",
              "    </tr>\n",
              "    <tr>\n",
              "      <th>8</th>\n",
              "      <td>3000</td>\n",
              "      <td>0.3669</td>\n",
              "      <td>0.4694</td>\n",
              "    </tr>\n",
              "    <tr>\n",
              "      <th>9</th>\n",
              "      <td>4000</td>\n",
              "      <td>0.3442</td>\n",
              "      <td>0.4841</td>\n",
              "    </tr>\n",
              "    <tr>\n",
              "      <th>10</th>\n",
              "      <td>5000</td>\n",
              "      <td>0.3174</td>\n",
              "      <td>0.4822</td>\n",
              "    </tr>\n",
              "    <tr>\n",
              "      <th>11</th>\n",
              "      <td>6000</td>\n",
              "      <td>0.3175</td>\n",
              "      <td>0.4748</td>\n",
              "    </tr>\n",
              "    <tr>\n",
              "      <th>12</th>\n",
              "      <td>7000</td>\n",
              "      <td>0.3072</td>\n",
              "      <td>0.4807</td>\n",
              "    </tr>\n",
              "    <tr>\n",
              "      <th>13</th>\n",
              "      <td>8000</td>\n",
              "      <td>0.3061</td>\n",
              "      <td>0.4864</td>\n",
              "    </tr>\n",
              "    <tr>\n",
              "      <th>14</th>\n",
              "      <td>9000</td>\n",
              "      <td>0.2923</td>\n",
              "      <td>0.4908</td>\n",
              "    </tr>\n",
              "    <tr>\n",
              "      <th>15</th>\n",
              "      <td>10000</td>\n",
              "      <td>0.2778</td>\n",
              "      <td>0.4996</td>\n",
              "    </tr>\n",
              "  </tbody>\n",
              "</table>\n",
              "</div>"
            ],
            "text/plain": [
              "    Vārdnīcas izmērs  Naive Bayes  2 slāņu neironu tīkls\n",
              "0                100       0.3200                 0.3497\n",
              "1                200       0.3439                 0.3799\n",
              "2                300       0.4443                 0.4221\n",
              "3                400       0.4593                 0.4365\n",
              "4                500       0.4322                 0.4374\n",
              "5                750       0.4668                 0.4392\n",
              "6               1000       0.4587                 0.4385\n",
              "7               2000       0.3915                 0.4725\n",
              "8               3000       0.3669                 0.4694\n",
              "9               4000       0.3442                 0.4841\n",
              "10              5000       0.3174                 0.4822\n",
              "11              6000       0.3175                 0.4748\n",
              "12              7000       0.3072                 0.4807\n",
              "13              8000       0.3061                 0.4864\n",
              "14              9000       0.2923                 0.4908\n",
              "15             10000       0.2778                 0.4996"
            ]
          },
          "metadata": {
            "tags": []
          },
          "execution_count": 10
        }
      ]
    },
    {
      "cell_type": "markdown",
      "metadata": {
        "id": "fH6obg7MXOzc",
        "colab_type": "text"
      },
      "source": [
        "<h3>Pārpratumu matrica vienam modelim. Vārdnīcas izmērs = 1000</h3>"
      ]
    },
    {
      "cell_type": "code",
      "metadata": {
        "id": "MXlx_msexiGl",
        "colab_type": "code",
        "outputId": "5af3984e-330a-4b1f-8807-f3d6cff3e165",
        "colab": {
          "base_uri": "https://localhost:8080/",
          "height": 51
        }
      },
      "source": [
        "from sklearn.naive_bayes import MultinomialNB\n",
        "from sklearn.metrics import accuracy_score, confusion_matrix, classification_report, plot_confusion_matrix\n",
        "from keras.preprocessing import text\n",
        "import matplotlib.pyplot as plt\n",
        "from sklearn.model_selection import train_test_split\n",
        "%matplotlib inline\n",
        "print(len(X[0]), len(Y))\n",
        "X_train, X_test, y_train, y_test = train_test_split(X, Y, test_size=0.2, random_state=42)        # Veicam datu sadalīšanu testa un treniņa datos\n",
        "print(len(X_train), len(X_test))"
      ],
      "execution_count": 0,
      "outputs": [
        {
          "output_type": "stream",
          "text": [
            "48 23217\n",
            "18573 4644\n"
          ],
          "name": "stdout"
        }
      ]
    },
    {
      "cell_type": "code",
      "metadata": {
        "id": "qzYB0HmFxMQt",
        "colab_type": "code",
        "colab": {}
      },
      "source": [
        "# Text pre-processing\n",
        "max_words = 1000                                                                # uzstādām vārdnīcas izmēru\n",
        "tokenize = text.Tokenizer(num_words=max_words, char_level=False)                # izveidojam Tokenizer ar noteikto vārdnīcas izmēru\n",
        "tokenize.fit_on_texts(X_train)                                                  # apmācām Tokenizer uz mūsu treniņdatiem\n",
        "x_train = tokenize.texts_to_matrix(X_train)                                     # pārveidojam treniņdatus par tekstvienību vektoriem\n",
        "x_test = tokenize.texts_to_matrix(X_test)                                       # pārveidojam testa datus par tekstvienību vektoriem\n",
        "naive_bayes = MultinomialNB()                                                   # Izveidojam Naive Bayes modeli\n",
        "naive_bayes.fit(x_train, y_train)                                               # Trenējam modeli uz treniņdatiem\n",
        "y_pred = naive_bayes.predict(x_test)                                            # Prasam modelim paredzēt testa datiem kategorijas"
      ],
      "execution_count": 0,
      "outputs": []
    },
    {
      "cell_type": "code",
      "metadata": {
        "id": "gY5Yo74jZcBy",
        "colab_type": "code",
        "outputId": "299ab416-3271-48e0-d7e7-f725bd73569f",
        "colab": {
          "base_uri": "https://localhost:8080/",
          "height": 760
        }
      },
      "source": [
        "class_names = ['akadēmisks', 'citi', 'darba laiks', 'dokumenti']\n",
        "print(classification_report(y_test, y_pred, target_names=class_names))\n",
        "\n",
        "np.set_printoptions(precision=2)\n",
        "titles_options = [(\"Pārpratumu matrica\", None),                                 # Izveidojam pārpratumu un normalizēto pārpratumu matricu\n",
        "                  (\"Normalizēta pārpratumu matrica\", 'true')]\n",
        "for title, normalize in titles_options:\n",
        "    disp = plot_confusion_matrix(naive_bayes, x_test, y_test,\n",
        "                                 display_labels=class_names,\n",
        "                                 cmap=plt.cm.Blues,\n",
        "                                 normalize=normalize)\n",
        "    disp.ax_.set_title(title)\n",
        "plt.show()"
      ],
      "execution_count": 0,
      "outputs": [
        {
          "output_type": "stream",
          "text": [
            "              precision    recall  f1-score   support\n",
            "\n",
            "  akadēmisks       0.11      0.12      0.12         8\n",
            "        citi       1.00      0.99      1.00      4616\n",
            " darba laiks       0.43      0.62      0.51        16\n",
            "   dokumenti       0.00      0.00      0.00         4\n",
            "\n",
            "    accuracy                           0.99      4644\n",
            "   macro avg       0.39      0.44      0.41      4644\n",
            "weighted avg       0.99      0.99      0.99      4644\n",
            "\n"
          ],
          "name": "stdout"
        },
        {
          "output_type": "display_data",
          "data": {
            "image/png": "[encoded data removed]",
            "text/plain": [
              "<Figure size 432x288 with 2 Axes>"
            ]
          },
          "metadata": {
            "tags": [],
            "needs_background": "light"
          }
        },
        {
          "output_type": "display_data",
          "data": {
            "image/png": "[encoded data removed]",
            "text/plain": [
              "<Figure size 432x288 with 2 Axes>"
            ]
          },
          "metadata": {
            "tags": [],
            "needs_background": "light"
          }
        }
      ]
    },
    {
      "cell_type": "markdown",
      "metadata": {
        "id": "80uv5GS6Umk1",
        "colab_type": "text"
      },
      "source": [
        "<h2>Papildinātā datu kopa</h2>"
      ]
    },
    {
      "cell_type": "code",
      "metadata": {
        "id": "LdcPt1fF09Qv",
        "colab_type": "code",
        "outputId": "2ef8d5c8-8ce3-406c-a3eb-1da74aeb6c97",
        "colab": {
          "base_uri": "https://localhost:8080/",
          "height": 102
        }
      },
      "source": [
        "dataset2 = pd.read_csv('papildinatie_jautajumi_cleaned.csv', index_col=0)\n",
        "dataset2['labels'].value_counts()"
      ],
      "execution_count": 0,
      "outputs": [
        {
          "output_type": "execute_result",
          "data": {
            "text/plain": [
              "1    23025\n",
              "3      122\n",
              "2      122\n",
              "0      122\n",
              "Name: labels, dtype: int64"
            ]
          },
          "metadata": {
            "tags": []
          },
          "execution_count": 24
        }
      ]
    },
    {
      "cell_type": "code",
      "metadata": {
        "id": "zxiKrN5f6aRR",
        "colab_type": "code",
        "outputId": "63e179c1-674c-4932-8411-c8be404ca173",
        "colab": {
          "base_uri": "https://localhost:8080/",
          "height": 34
        }
      },
      "source": [
        "X = dataset2['Question'].values.astype('str')\n",
        "Y = dataset2['labels']\n",
        "print(Y.shape, len(X))"
      ],
      "execution_count": 0,
      "outputs": [
        {
          "output_type": "stream",
          "text": [
            "(23391,) 23391\n"
          ],
          "name": "stdout"
        }
      ]
    },
    {
      "cell_type": "code",
      "metadata": {
        "colab_type": "code",
        "outputId": "91ead401-5819-45c5-85a2-d48a2b809536",
        "id": "uyqXCaQFVdgt",
        "colab": {
          "base_uri": "https://localhost:8080/",
          "height": 1000
        }
      },
      "source": [
        "n_split = 5                                                                     # at each fold, we use 80% / 20% split\n",
        "exec_start = datetime.datetime.now()\n",
        "sizes = [100, 200, 300, 400, 500, 750, 1000, 2000, 3000, 4000, 5000, 6000, 7000, 8000, 9000, 10000]\n",
        "result_table = []\n",
        "result_header = ['Vārdnīcas izmērs', 'Naive Bayes', '2 slāņu neironu tīkls']\n",
        "result_table.append(result_header)\n",
        "\n",
        "for max_words in sizes:\n",
        "  result_row = []\n",
        "  result_row.append(max_words)\n",
        "  \n",
        "  # Text pre-processing\n",
        "  tokenize = text.Tokenizer(num_words=max_words, char_level=False)              # izveidojam Tokenizer ar noteikto vārdnīcas izmēru\n",
        "  tokenize.fit_on_texts(X)                                                      # apmācām Tokenizer uz mūsu datiem\n",
        "  X2 = tokenize.texts_to_matrix(X)                                              # pārveidojam treniņdatus par tekstvienību vektoriem\n",
        "  print('Tokenizer done:', max_words, X2.shape)\n",
        "\n",
        "  f1_scores_naive = []                                                          # Creating an empty array of f1 scores \n",
        "  f1_scores_keras = []\n",
        "  counter = 0\n",
        "  for train_index,test_index in StratifiedKFold(n_split).split(X2, Y):\n",
        "    # creating train and test datasets\n",
        "    x_train,x_test=X2[train_index],X2[test_index]\n",
        "    y_train,y_test=Y[train_index],Y[test_index]\n",
        "\n",
        "    ### Naive Bayes ###\n",
        "    naive_bayes = MultinomialNB()                                               # Izveidojam Naive Bayes modeli\n",
        "    naive_bayes.fit(x_train, y_train)                                           # Trenējam modeli uz treniņdatiem\n",
        "    naive_y_pred = naive_bayes.predict(x_test)\n",
        "    naive_f1_avg = round(f1_score(y_test, naive_y_pred, average='macro'),4)     # Fiksējam Naive Bayes f1 vidējo rezultātu\n",
        "\n",
        "    f1_scores_naive.append(naive_f1_avg)\n",
        "\n",
        "    ### Keras Sequential ###\n",
        "    model = models.Sequential()\n",
        "    model.add(layers.Dense(256, activation='relu', input_shape=(max_words,)))\n",
        "    model.add(layers.Dense(64, activation='relu'))\n",
        "    model.add(layers.Dense(4, activation='softmax'))\n",
        "\n",
        "    model.compile(loss=['sparse_categorical_crossentropy'],\n",
        "                optimizer='adam',\n",
        "                metrics=['sparse_categorical_crossentropy'])\n",
        "    batch_size = 64\n",
        "    epochs = 5\n",
        "    history = model.fit(x_train, y_train,\n",
        "                        batch_size=batch_size,\n",
        "                        epochs=epochs,\n",
        "                        verbose=0)\n",
        "    y_pred = model.predict(x_test)                                              # Prasam modelim paredzēt testa datiem kategorijas\n",
        "    keras_y_pred = transformResults(y_pred)                                     # Pārveidojam rezultātus, paņemot ticamāko klasi no varbūtībām\n",
        "    keras_f1_avg = round(f1_score(y_test, keras_y_pred, average='macro'),4)     # Fiksējam Naive Bayes f1 vidējo rezultātu\n",
        "    f1_scores_keras.append(keras_f1_avg)\n",
        "    counter = counter + 1\n",
        "    print('\\tCompleted for vocabulary size:', max_words,' K-Fold #',counter, ' Naive Bayes score:',naive_f1_avg, ' Keras score:',keras_f1_avg)\n",
        "    \n",
        "  #After the K-Fold validation\n",
        "  f1_avg_naive = round(np.mean(f1_scores_naive), 4)\n",
        "  f1_avg_keras = round(np.mean(f1_scores_keras),4)\n",
        "  print('    Completed for vocabulary size:', max_words,' Naive Bayes score:',f1_avg_naive, ' Keras score:',f1_avg_keras)\n",
        "  result_row.append(f1_avg_naive)\n",
        "  result_row.append(f1_avg_keras)\n",
        "  result_table.append(result_row)\n",
        "#In the very end - fix the execution time\n",
        "exec_end = datetime.datetime.now()\n",
        "exec_elapsed = exec_end - exec_start\n",
        "print('Total time elapsed:', exec_elapsed)\n",
        "result_data = pd.DataFrame(result_table[1:], columns=result_table[0])\n",
        "result_data.to_csv('2020_05_23_Baseline_results_papildinatie.csv')\n",
        "result_data"
      ],
      "execution_count": 0,
      "outputs": [
        {
          "output_type": "stream",
          "text": [
            "Tokenizer done: 100 (23391, 100)\n",
            "\tCompleted for vocabulary size: 100  K-Fold # 1  Naive Bayes score: 0.3067  Keras score: 0.4239\n",
            "\tCompleted for vocabulary size: 100  K-Fold # 2  Naive Bayes score: 0.2478  Keras score: 0.3051\n",
            "\tCompleted for vocabulary size: 100  K-Fold # 3  Naive Bayes score: 0.3194  Keras score: 0.3731\n",
            "\tCompleted for vocabulary size: 100  K-Fold # 4  Naive Bayes score: 0.3169  Keras score: 0.3419\n",
            "\tCompleted for vocabulary size: 100  K-Fold # 5  Naive Bayes score: 0.3169  Keras score: 0.3314\n",
            "    Completed for vocabulary size: 100  Naive Bayes score: 0.3015  Keras score: 0.3551\n",
            "Tokenizer done: 200 (23391, 200)\n",
            "\tCompleted for vocabulary size: 200  K-Fold # 1  Naive Bayes score: 0.3613  Keras score: 0.435\n",
            "\tCompleted for vocabulary size: 200  K-Fold # 2  Naive Bayes score: 0.2797  Keras score: 0.3602\n",
            "\tCompleted for vocabulary size: 200  K-Fold # 3  Naive Bayes score: 0.3424  Keras score: 0.4541\n",
            "\tCompleted for vocabulary size: 200  K-Fold # 4  Naive Bayes score: 0.3264  Keras score: 0.3315\n",
            "\tCompleted for vocabulary size: 200  K-Fold # 5  Naive Bayes score: 0.3588  Keras score: 0.4902\n",
            "    Completed for vocabulary size: 200  Naive Bayes score: 0.3337  Keras score: 0.4142\n",
            "Tokenizer done: 300 (23391, 300)\n",
            "\tCompleted for vocabulary size: 300  K-Fold # 1  Naive Bayes score: 0.4523  Keras score: 0.4784\n",
            "\tCompleted for vocabulary size: 300  K-Fold # 2  Naive Bayes score: 0.4431  Keras score: 0.4701\n",
            "\tCompleted for vocabulary size: 300  K-Fold # 3  Naive Bayes score: 0.5414  Keras score: 0.5784\n",
            "\tCompleted for vocabulary size: 300  K-Fold # 4  Naive Bayes score: 0.51  Keras score: 0.6902\n",
            "\tCompleted for vocabulary size: 300  K-Fold # 5  Naive Bayes score: 0.4543  Keras score: 0.5104\n",
            "    Completed for vocabulary size: 300  Naive Bayes score: 0.4802  Keras score: 0.5455\n",
            "Tokenizer done: 400 (23391, 400)\n",
            "\tCompleted for vocabulary size: 400  K-Fold # 1  Naive Bayes score: 0.5304  Keras score: 0.5068\n",
            "\tCompleted for vocabulary size: 400  K-Fold # 2  Naive Bayes score: 0.4921  Keras score: 0.4651\n",
            "\tCompleted for vocabulary size: 400  K-Fold # 3  Naive Bayes score: 0.6324  Keras score: 0.619\n",
            "\tCompleted for vocabulary size: 400  K-Fold # 4  Naive Bayes score: 0.6025  Keras score: 0.694\n",
            "\tCompleted for vocabulary size: 400  K-Fold # 5  Naive Bayes score: 0.4691  Keras score: 0.5525\n",
            "    Completed for vocabulary size: 400  Naive Bayes score: 0.5453  Keras score: 0.5675\n",
            "Tokenizer done: 500 (23391, 500)\n",
            "\tCompleted for vocabulary size: 500  K-Fold # 1  Naive Bayes score: 0.5236  Keras score: 0.5383\n",
            "\tCompleted for vocabulary size: 500  K-Fold # 2  Naive Bayes score: 0.4651  Keras score: 0.4599\n",
            "\tCompleted for vocabulary size: 500  K-Fold # 3  Naive Bayes score: 0.6089  Keras score: 0.5697\n",
            "\tCompleted for vocabulary size: 500  K-Fold # 4  Naive Bayes score: 0.5682  Keras score: 0.6519\n",
            "\tCompleted for vocabulary size: 500  K-Fold # 5  Naive Bayes score: 0.4636  Keras score: 0.5893\n",
            "    Completed for vocabulary size: 500  Naive Bayes score: 0.5259  Keras score: 0.5618\n",
            "Tokenizer done: 750 (23391, 750)\n",
            "\tCompleted for vocabulary size: 750  K-Fold # 1  Naive Bayes score: 0.5642  Keras score: 0.5802\n",
            "\tCompleted for vocabulary size: 750  K-Fold # 2  Naive Bayes score: 0.5115  Keras score: 0.4884\n",
            "\tCompleted for vocabulary size: 750  K-Fold # 3  Naive Bayes score: 0.6571  Keras score: 0.6389\n",
            "\tCompleted for vocabulary size: 750  K-Fold # 4  Naive Bayes score: 0.5641  Keras score: 0.7184\n",
            "\tCompleted for vocabulary size: 750  K-Fold # 5  Naive Bayes score: 0.5085  Keras score: 0.575\n",
            "    Completed for vocabulary size: 750  Naive Bayes score: 0.5611  Keras score: 0.6002\n",
            "Tokenizer done: 1000 (23391, 1000)\n",
            "\tCompleted for vocabulary size: 1000  K-Fold # 1  Naive Bayes score: 0.5691  Keras score: 0.5487\n",
            "\tCompleted for vocabulary size: 1000  K-Fold # 2  Naive Bayes score: 0.531  Keras score: 0.511\n",
            "\tCompleted for vocabulary size: 1000  K-Fold # 3  Naive Bayes score: 0.641  Keras score: 0.7051\n",
            "\tCompleted for vocabulary size: 1000  K-Fold # 4  Naive Bayes score: 0.568  Keras score: 0.7044\n",
            "\tCompleted for vocabulary size: 1000  K-Fold # 5  Naive Bayes score: 0.5224  Keras score: 0.5615\n",
            "    Completed for vocabulary size: 1000  Naive Bayes score: 0.5663  Keras score: 0.6061\n",
            "Tokenizer done: 2000 (23391, 2000)\n",
            "\tCompleted for vocabulary size: 2000  K-Fold # 1  Naive Bayes score: 0.4972  Keras score: 0.5858\n",
            "\tCompleted for vocabulary size: 2000  K-Fold # 2  Naive Bayes score: 0.4629  Keras score: 0.5078\n",
            "\tCompleted for vocabulary size: 2000  K-Fold # 3  Naive Bayes score: 0.6027  Keras score: 0.7366\n",
            "\tCompleted for vocabulary size: 2000  K-Fold # 4  Naive Bayes score: 0.5688  Keras score: 0.7454\n",
            "\tCompleted for vocabulary size: 2000  K-Fold # 5  Naive Bayes score: 0.4985  Keras score: 0.6751\n",
            "    Completed for vocabulary size: 2000  Naive Bayes score: 0.526  Keras score: 0.6501\n",
            "Tokenizer done: 3000 (23391, 3000)\n",
            "\tCompleted for vocabulary size: 3000  K-Fold # 1  Naive Bayes score: 0.4772  Keras score: 0.6257\n",
            "\tCompleted for vocabulary size: 3000  K-Fold # 2  Naive Bayes score: 0.4593  Keras score: 0.5358\n",
            "\tCompleted for vocabulary size: 3000  K-Fold # 3  Naive Bayes score: 0.547  Keras score: 0.7213\n",
            "\tCompleted for vocabulary size: 3000  K-Fold # 4  Naive Bayes score: 0.6085  Keras score: 0.7692\n",
            "\tCompleted for vocabulary size: 3000  K-Fold # 5  Naive Bayes score: 0.452  Keras score: 0.6205\n",
            "    Completed for vocabulary size: 3000  Naive Bayes score: 0.5088  Keras score: 0.6545\n",
            "Tokenizer done: 4000 (23391, 4000)\n",
            "\tCompleted for vocabulary size: 4000  K-Fold # 1  Naive Bayes score: 0.4627  Keras score: 0.6328\n",
            "\tCompleted for vocabulary size: 4000  K-Fold # 2  Naive Bayes score: 0.4082  Keras score: 0.5448\n",
            "\tCompleted for vocabulary size: 4000  K-Fold # 3  Naive Bayes score: 0.4746  Keras score: 0.7296\n",
            "\tCompleted for vocabulary size: 4000  K-Fold # 4  Naive Bayes score: 0.5288  Keras score: 0.7841\n",
            "\tCompleted for vocabulary size: 4000  K-Fold # 5  Naive Bayes score: 0.4355  Keras score: 0.6675\n",
            "    Completed for vocabulary size: 4000  Naive Bayes score: 0.462  Keras score: 0.6718\n",
            "Tokenizer done: 5000 (23391, 5000)\n",
            "\tCompleted for vocabulary size: 5000  K-Fold # 1  Naive Bayes score: 0.3771  Keras score: 0.6381\n",
            "\tCompleted for vocabulary size: 5000  K-Fold # 2  Naive Bayes score: 0.3983  Keras score: 0.5142\n",
            "\tCompleted for vocabulary size: 5000  K-Fold # 3  Naive Bayes score: 0.452  Keras score: 0.6988\n",
            "\tCompleted for vocabulary size: 5000  K-Fold # 4  Naive Bayes score: 0.5151  Keras score: 0.8076\n",
            "\tCompleted for vocabulary size: 5000  K-Fold # 5  Naive Bayes score: 0.4412  Keras score: 0.6736\n",
            "    Completed for vocabulary size: 5000  Naive Bayes score: 0.4367  Keras score: 0.6665\n",
            "Tokenizer done: 6000 (23391, 6000)\n",
            "\tCompleted for vocabulary size: 6000  K-Fold # 1  Naive Bayes score: 0.3683  Keras score: 0.6278\n",
            "\tCompleted for vocabulary size: 6000  K-Fold # 2  Naive Bayes score: 0.3984  Keras score: 0.5392\n",
            "\tCompleted for vocabulary size: 6000  K-Fold # 3  Naive Bayes score: 0.4505  Keras score: 0.7289\n",
            "\tCompleted for vocabulary size: 6000  K-Fold # 4  Naive Bayes score: 0.5247  Keras score: 0.7968\n",
            "\tCompleted for vocabulary size: 6000  K-Fold # 5  Naive Bayes score: 0.3918  Keras score: 0.6415\n",
            "    Completed for vocabulary size: 6000  Naive Bayes score: 0.4267  Keras score: 0.6668\n",
            "Tokenizer done: 7000 (23391, 7000)\n",
            "\tCompleted for vocabulary size: 7000  K-Fold # 1  Naive Bayes score: 0.3364  Keras score: 0.5932\n",
            "\tCompleted for vocabulary size: 7000  K-Fold # 2  Naive Bayes score: 0.367  Keras score: 0.5466\n",
            "\tCompleted for vocabulary size: 7000  K-Fold # 3  Naive Bayes score: 0.4019  Keras score: 0.7362\n",
            "\tCompleted for vocabulary size: 7000  K-Fold # 4  Naive Bayes score: 0.4981  Keras score: 0.7984\n",
            "\tCompleted for vocabulary size: 7000  K-Fold # 5  Naive Bayes score: 0.3877  Keras score: 0.6371\n",
            "    Completed for vocabulary size: 7000  Naive Bayes score: 0.3982  Keras score: 0.6623\n",
            "Tokenizer done: 8000 (23391, 8000)\n",
            "\tCompleted for vocabulary size: 8000  K-Fold # 1  Naive Bayes score: 0.3364  Keras score: 0.6166\n",
            "\tCompleted for vocabulary size: 8000  K-Fold # 2  Naive Bayes score: 0.3945  Keras score: 0.572\n",
            "\tCompleted for vocabulary size: 8000  K-Fold # 3  Naive Bayes score: 0.3596  Keras score: 0.7224\n",
            "\tCompleted for vocabulary size: 8000  K-Fold # 4  Naive Bayes score: 0.4968  Keras score: 0.795\n",
            "\tCompleted for vocabulary size: 8000  K-Fold # 5  Naive Bayes score: 0.3466  Keras score: 0.6935\n",
            "    Completed for vocabulary size: 8000  Naive Bayes score: 0.3868  Keras score: 0.6799\n",
            "Tokenizer done: 9000 (23391, 9000)\n",
            "\tCompleted for vocabulary size: 9000  K-Fold # 1  Naive Bayes score: 0.3285  Keras score: 0.6393\n",
            "\tCompleted for vocabulary size: 9000  K-Fold # 2  Naive Bayes score: 0.3324  Keras score: 0.5269\n",
            "\tCompleted for vocabulary size: 9000  K-Fold # 3  Naive Bayes score: 0.3732  Keras score: 0.7214\n",
            "\tCompleted for vocabulary size: 9000  K-Fold # 4  Naive Bayes score: 0.45  Keras score: 0.7823\n",
            "\tCompleted for vocabulary size: 9000  K-Fold # 5  Naive Bayes score: 0.3598  Keras score: 0.6506\n",
            "    Completed for vocabulary size: 9000  Naive Bayes score: 0.3688  Keras score: 0.6641\n",
            "Tokenizer done: 10000 (23391, 10000)\n",
            "\tCompleted for vocabulary size: 10000  K-Fold # 1  Naive Bayes score: 0.2892  Keras score: 0.5688\n",
            "\tCompleted for vocabulary size: 10000  K-Fold # 2  Naive Bayes score: 0.3224  Keras score: 0.5615\n",
            "\tCompleted for vocabulary size: 10000  K-Fold # 3  Naive Bayes score: 0.3212  Keras score: 0.6969\n",
            "\tCompleted for vocabulary size: 10000  K-Fold # 4  Naive Bayes score: 0.3803  Keras score: 0.8038\n",
            "\tCompleted for vocabulary size: 10000  K-Fold # 5  Naive Bayes score: 0.3252  Keras score: 0.6696\n",
            "    Completed for vocabulary size: 10000  Naive Bayes score: 0.3277  Keras score: 0.6601\n",
            "Total time elapsed: 0:29:30.124463\n"
          ],
          "name": "stdout"
        },
        {
          "output_type": "execute_result",
          "data": {
            "text/html": [
              "<div>\n",
              "<style scoped>\n",
              "    .dataframe tbody tr th:only-of-type {\n",
              "        vertical-align: middle;\n",
              "    }\n",
              "\n",
              "    .dataframe tbody tr th {\n",
              "        vertical-align: top;\n",
              "    }\n",
              "\n",
              "    .dataframe thead th {\n",
              "        text-align: right;\n",
              "    }\n",
              "</style>\n",
              "<table border=\"1\" class=\"dataframe\">\n",
              "  <thead>\n",
              "    <tr style=\"text-align: right;\">\n",
              "      <th></th>\n",
              "      <th>Vārdnīcas izmērs</th>\n",
              "      <th>Naive Bayes</th>\n",
              "      <th>2 slāņu neironu tīkls</th>\n",
              "    </tr>\n",
              "  </thead>\n",
              "  <tbody>\n",
              "    <tr>\n",
              "      <th>0</th>\n",
              "      <td>100</td>\n",
              "      <td>0.3015</td>\n",
              "      <td>0.3551</td>\n",
              "    </tr>\n",
              "    <tr>\n",
              "      <th>1</th>\n",
              "      <td>200</td>\n",
              "      <td>0.3337</td>\n",
              "      <td>0.4142</td>\n",
              "    </tr>\n",
              "    <tr>\n",
              "      <th>2</th>\n",
              "      <td>300</td>\n",
              "      <td>0.4802</td>\n",
              "      <td>0.5455</td>\n",
              "    </tr>\n",
              "    <tr>\n",
              "      <th>3</th>\n",
              "      <td>400</td>\n",
              "      <td>0.5453</td>\n",
              "      <td>0.5675</td>\n",
              "    </tr>\n",
              "    <tr>\n",
              "      <th>4</th>\n",
              "      <td>500</td>\n",
              "      <td>0.5259</td>\n",
              "      <td>0.5618</td>\n",
              "    </tr>\n",
              "    <tr>\n",
              "      <th>5</th>\n",
              "      <td>750</td>\n",
              "      <td>0.5611</td>\n",
              "      <td>0.6002</td>\n",
              "    </tr>\n",
              "    <tr>\n",
              "      <th>6</th>\n",
              "      <td>1000</td>\n",
              "      <td>0.5663</td>\n",
              "      <td>0.6061</td>\n",
              "    </tr>\n",
              "    <tr>\n",
              "      <th>7</th>\n",
              "      <td>2000</td>\n",
              "      <td>0.5260</td>\n",
              "      <td>0.6501</td>\n",
              "    </tr>\n",
              "    <tr>\n",
              "      <th>8</th>\n",
              "      <td>3000</td>\n",
              "      <td>0.5088</td>\n",
              "      <td>0.6545</td>\n",
              "    </tr>\n",
              "    <tr>\n",
              "      <th>9</th>\n",
              "      <td>4000</td>\n",
              "      <td>0.4620</td>\n",
              "      <td>0.6718</td>\n",
              "    </tr>\n",
              "    <tr>\n",
              "      <th>10</th>\n",
              "      <td>5000</td>\n",
              "      <td>0.4367</td>\n",
              "      <td>0.6665</td>\n",
              "    </tr>\n",
              "    <tr>\n",
              "      <th>11</th>\n",
              "      <td>6000</td>\n",
              "      <td>0.4267</td>\n",
              "      <td>0.6668</td>\n",
              "    </tr>\n",
              "    <tr>\n",
              "      <th>12</th>\n",
              "      <td>7000</td>\n",
              "      <td>0.3982</td>\n",
              "      <td>0.6623</td>\n",
              "    </tr>\n",
              "    <tr>\n",
              "      <th>13</th>\n",
              "      <td>8000</td>\n",
              "      <td>0.3868</td>\n",
              "      <td>0.6799</td>\n",
              "    </tr>\n",
              "    <tr>\n",
              "      <th>14</th>\n",
              "      <td>9000</td>\n",
              "      <td>0.3688</td>\n",
              "      <td>0.6641</td>\n",
              "    </tr>\n",
              "    <tr>\n",
              "      <th>15</th>\n",
              "      <td>10000</td>\n",
              "      <td>0.3277</td>\n",
              "      <td>0.6601</td>\n",
              "    </tr>\n",
              "  </tbody>\n",
              "</table>\n",
              "</div>"
            ],
            "text/plain": [
              "    Vārdnīcas izmērs  Naive Bayes  2 slāņu neironu tīkls\n",
              "0                100       0.3015                 0.3551\n",
              "1                200       0.3337                 0.4142\n",
              "2                300       0.4802                 0.5455\n",
              "3                400       0.5453                 0.5675\n",
              "4                500       0.5259                 0.5618\n",
              "5                750       0.5611                 0.6002\n",
              "6               1000       0.5663                 0.6061\n",
              "7               2000       0.5260                 0.6501\n",
              "8               3000       0.5088                 0.6545\n",
              "9               4000       0.4620                 0.6718\n",
              "10              5000       0.4367                 0.6665\n",
              "11              6000       0.4267                 0.6668\n",
              "12              7000       0.3982                 0.6623\n",
              "13              8000       0.3868                 0.6799\n",
              "14              9000       0.3688                 0.6641\n",
              "15             10000       0.3277                 0.6601"
            ]
          },
          "metadata": {
            "tags": []
          },
          "execution_count": 26
        }
      ]
    },
    {
      "cell_type": "markdown",
      "metadata": {
        "colab_type": "text",
        "id": "npTZrNM5jvxv"
      },
      "source": [
        "<h3>Pārpratumu matrica vienam modelim. Vārdnīcas izmērs = 1000</h3>"
      ]
    },
    {
      "cell_type": "code",
      "metadata": {
        "colab_type": "code",
        "outputId": "94c165f8-3446-4b8c-da16-031aeadbea8f",
        "id": "j1CW7Wskjvxw",
        "colab": {
          "base_uri": "https://localhost:8080/",
          "height": 51
        }
      },
      "source": [
        "from sklearn.naive_bayes import MultinomialNB\n",
        "from sklearn.metrics import accuracy_score, confusion_matrix, classification_report, plot_confusion_matrix\n",
        "from keras.preprocessing import text\n",
        "import matplotlib.pyplot as plt\n",
        "from sklearn.model_selection import train_test_split\n",
        "%matplotlib inline\n",
        "print(len(X[0]), len(Y))\n",
        "X_train, X_test, y_train, y_test = train_test_split(X, Y, test_size=0.2, random_state=42)        # Veicam datu sadalīšanu testa un treniņa datos\n",
        "print(len(X_train), len(X_test))"
      ],
      "execution_count": 0,
      "outputs": [
        {
          "output_type": "stream",
          "text": [
            "48 23391\n",
            "18712 4679\n"
          ],
          "name": "stdout"
        }
      ]
    },
    {
      "cell_type": "code",
      "metadata": {
        "colab_type": "code",
        "id": "p5aOvX2fjvx0",
        "colab": {}
      },
      "source": [
        "# Text pre-processing\n",
        "max_words = 1000                                                                # uzstādām vārdnīcas izmēru\n",
        "tokenize = text.Tokenizer(num_words=max_words, char_level=False)                # izveidojam Tokenizer ar noteikto vārdnīcas izmēru\n",
        "tokenize.fit_on_texts(X_train)                                                  # apmācām Tokenizer uz mūsu treniņdatiem\n",
        "x_train = tokenize.texts_to_matrix(X_train)                                     # pārveidojam treniņdatus par tekstvienību vektoriem\n",
        "x_test = tokenize.texts_to_matrix(X_test)                                       # pārveidojam testa datus par tekstvienību vektoriem\n",
        "naive_bayes = MultinomialNB()                                                   # Izveidojam Naive Bayes modeli\n",
        "naive_bayes.fit(x_train, y_train)                                               # Trenējam modeli uz treniņdatiem\n",
        "y_pred = naive_bayes.predict(x_test)                                            # Prasam modelim paredzēt testa datiem kategorijas"
      ],
      "execution_count": 0,
      "outputs": []
    },
    {
      "cell_type": "code",
      "metadata": {
        "colab_type": "code",
        "outputId": "f9fd07ac-92cb-47b4-9643-ce34d38a8366",
        "id": "HJtDKYTCjvx2",
        "colab": {
          "base_uri": "https://localhost:8080/",
          "height": 760
        }
      },
      "source": [
        "class_names = ['akadēmisks', 'citi', 'darba laiks', 'dokumenti']\n",
        "print(classification_report(y_test, y_pred, target_names=class_names))\n",
        "\n",
        "np.set_printoptions(precision=2)\n",
        "titles_options = [(\"Pārpratumu matrica\", None),                                 # Izveidojam pārpratumu un normalizēto pārpratumu matricu\n",
        "                  (\"Normalizēta pārpratumu matrica\", 'true')]\n",
        "for title, normalize in titles_options:\n",
        "    disp = plot_confusion_matrix(naive_bayes, x_test, y_test,\n",
        "                                 display_labels=class_names,\n",
        "                                 cmap=plt.cm.Blues,\n",
        "                                 normalize=normalize)\n",
        "    disp.ax_.set_title(title)\n",
        "plt.show()"
      ],
      "execution_count": 0,
      "outputs": [
        {
          "output_type": "stream",
          "text": [
            "              precision    recall  f1-score   support\n",
            "\n",
            "  akadēmisks       0.46      0.46      0.46        24\n",
            "        citi       0.99      0.99      0.99      4615\n",
            " darba laiks       0.42      0.65      0.51        17\n",
            "   dokumenti       0.44      0.35      0.39        23\n",
            "\n",
            "    accuracy                           0.98      4679\n",
            "   macro avg       0.58      0.61      0.59      4679\n",
            "weighted avg       0.99      0.98      0.98      4679\n",
            "\n"
          ],
          "name": "stdout"
        },
        {
          "output_type": "display_data",
          "data": {
            "image/png": "[encoded data removed]",
            "text/plain": [
              "<Figure size 432x288 with 2 Axes>"
            ]
          },
          "metadata": {
            "tags": [],
            "needs_background": "light"
          }
        },
        {
          "output_type": "display_data",
          "data": {
            "image/png": "[encoded data removed]",
            "text/plain": [
              "<Figure size 432x288 with 2 Axes>"
            ]
          },
          "metadata": {
            "tags": [],
            "needs_background": "light"
          }
        }
      ]
    },
    {
      "cell_type": "markdown",
      "metadata": {
        "id": "8MPMtGDaq1F1",
        "colab_type": "text"
      },
      "source": [
        "<h2>Variācija - veicam Tokenizing tikai uz treniņdatiem. Rezultāti ļoti līdzīgi, atšķirība 1-% ietvaros</h2>"
      ]
    },
    {
      "cell_type": "code",
      "metadata": {
        "colab_type": "code",
        "id": "eKAb5q4DtU7K",
        "colab": {}
      },
      "source": [
        "def transformResults(results):\n",
        "    mod_results = []\n",
        "    for result in results:\n",
        "        out = np.argmax(result)\n",
        "        mod_results.append(out)\n",
        "    mod_results = np.array(mod_results)   \n",
        "    return mod_results "
      ],
      "execution_count": 0,
      "outputs": []
    },
    {
      "cell_type": "code",
      "metadata": {
        "colab_type": "code",
        "outputId": "8c308a96-dfbe-4e85-c277-28d3619ea92a",
        "id": "yxBhTBocq6fC",
        "colab": {
          "base_uri": "https://localhost:8080/",
          "height": 1000
        }
      },
      "source": [
        "import datetime\n",
        "from sklearn.naive_bayes import MultinomialNB\n",
        "from sklearn.metrics import f1_score, confusion_matrix\n",
        "from sklearn.model_selection import StratifiedKFold\n",
        "from keras.preprocessing import text\n",
        "from keras import models, layers\n",
        "n_split = 5                                                                     # at each fold, we use 80% / 20% split\n",
        "\n",
        "exec_start = datetime.datetime.now()\n",
        "sizes = [100, 200, 300, 400, 500, 750, 1000, 2000, 3000, 4000, 5000, 6000, 7000, 8000, 9000, 10000]\n",
        "result_table = []\n",
        "result_header = ['Vārdnīcas izmērs', 'Naive Bayes', '2 slāņu neironu tīkls']\n",
        "result_table.append(result_header)\n",
        "\n",
        "for max_words in sizes:\n",
        "  result_row = []\n",
        "  result_row.append(max_words)\n",
        "  \n",
        "  f1_scores_naive = []                                                          # Creating an empty array of f1 scores \n",
        "  f1_scores_keras = []\n",
        "  counter = 0\n",
        "  for train_index,test_index in StratifiedKFold(n_split).split(X, Y):\n",
        "    # creating train and test datasets\n",
        "    x_train,x_test=X[train_index],X[test_index]\n",
        "    y_train,y_test=Y[train_index],Y[test_index]\n",
        "\n",
        "    # Text pre-processing\n",
        "    tokenize = text.Tokenizer(num_words=max_words, char_level=False)            # izveidojam Tokenizer ar noteikto vārdnīcas izmēru\n",
        "    tokenize.fit_on_texts(x_train)                                              # apmācām Tokenizer uz mūsu datiem\n",
        "    x_train = tokenize.texts_to_matrix(x_train)                                 # pārveidojam treniņdatus par tekstvienību vektoriem\n",
        "    x_test = tokenize.texts_to_matrix(x_test)                                   # pārveidojam testa datus par tekstvienību vektoriem\n",
        "\n",
        "    ### Naive Bayes ###\n",
        "    naive_bayes = MultinomialNB()                                               # Izveidojam Naive Bayes modeli\n",
        "    naive_bayes.fit(x_train, y_train)                                           # Trenējam modeli uz treniņdatiem\n",
        "    naive_y_pred = naive_bayes.predict(x_test)\n",
        "    naive_f1_avg = round(f1_score(y_test, naive_y_pred, average='macro'),4)     # Fiksējam Naive Bayes f1 vidējo rezultātu\n",
        "\n",
        "    f1_scores_naive.append(naive_f1_avg)\n",
        "\n",
        "    ### Keras Sequential ###\n",
        "    model = models.Sequential()\n",
        "    model.add(layers.Dense(256, activation='relu', input_shape=(max_words,)))\n",
        "    model.add(layers.Dense(64, activation='relu'))\n",
        "    model.add(layers.Dense(4, activation='softmax'))\n",
        "\n",
        "    model.compile(loss=['sparse_categorical_crossentropy'],\n",
        "                optimizer='adam',\n",
        "                metrics=['sparse_categorical_crossentropy'])\n",
        "    batch_size = 64\n",
        "    epochs = 5\n",
        "    history = model.fit(x_train, y_train,\n",
        "                        batch_size=batch_size,\n",
        "                        epochs=epochs,\n",
        "                        verbose=0)\n",
        "    y_pred = model.predict(x_test)                                              # Prasam modelim paredzēt testa datiem kategorijas\n",
        "    keras_y_pred = transformResults(y_pred)                                     # Pārveidojam rezultātus, paņemot ticamāko klasi no varbūtībām\n",
        "    keras_f1_avg = round(f1_score(y_test, keras_y_pred, average='macro'),4)     # Fiksējam Naive Bayes f1 vidējo rezultātu\n",
        "    f1_scores_keras.append(keras_f1_avg)\n",
        "    counter = counter + 1\n",
        "    print('\\tCompleted for vocabulary size:', max_words,' K-Fold #',counter, ' Naive Bayes score:',naive_f1_avg, ' Keras score:',keras_f1_avg)\n",
        "    \n",
        "  #After the K-Fold validation\n",
        "  f1_avg_naive = round(np.mean(f1_scores_naive), 4)\n",
        "  f1_avg_keras = round(np.mean(f1_scores_keras),4)\n",
        "  print('    Completed for vocabulary size:', max_words,' Naive Bayes score:',f1_avg_naive, ' Keras score:',f1_avg_keras)\n",
        "  result_row.append(f1_avg_naive)\n",
        "  result_row.append(f1_avg_keras)\n",
        "  result_table.append(result_row)\n",
        "#In the very end - fix the execution time\n",
        "exec_end = datetime.datetime.now()\n",
        "exec_elapsed = exec_end - exec_start\n",
        "print('Total time elapsed:', exec_elapsed)\n",
        "result_data = pd.DataFrame(result_table[1:], columns=result_table[0])\n",
        "result_data.to_csv('2020_05_23_Baseline_results_pamatdati_2.csv')\n",
        "result_data"
      ],
      "execution_count": 0,
      "outputs": [
        {
          "output_type": "stream",
          "text": [
            "\tCompleted for vocabulary size: 100  K-Fold # 1  Naive Bayes score: 0.306  Keras score: 0.399\n",
            "\tCompleted for vocabulary size: 100  K-Fold # 2  Naive Bayes score: 0.2488  Keras score: 0.3147\n",
            "\tCompleted for vocabulary size: 100  K-Fold # 3  Naive Bayes score: 0.355  Keras score: 0.3807\n",
            "\tCompleted for vocabulary size: 100  K-Fold # 4  Naive Bayes score: 0.3025  Keras score: 0.3205\n",
            "\tCompleted for vocabulary size: 100  K-Fold # 5  Naive Bayes score: 0.3741  Keras score: 0.3543\n",
            "    Completed for vocabulary size: 100  Naive Bayes score: 0.3173  Keras score: 0.3538\n",
            "\tCompleted for vocabulary size: 200  K-Fold # 1  Naive Bayes score: 0.3467  Keras score: 0.3854\n",
            "\tCompleted for vocabulary size: 200  K-Fold # 2  Naive Bayes score: 0.2486  Keras score: 0.3095\n",
            "\tCompleted for vocabulary size: 200  K-Fold # 3  Naive Bayes score: 0.3927  Keras score: 0.3621\n",
            "\tCompleted for vocabulary size: 200  K-Fold # 4  Naive Bayes score: 0.3299  Keras score: 0.3815\n",
            "\tCompleted for vocabulary size: 200  K-Fold # 5  Naive Bayes score: 0.3571  Keras score: 0.4139\n",
            "    Completed for vocabulary size: 200  Naive Bayes score: 0.335  Keras score: 0.3705\n",
            "\tCompleted for vocabulary size: 300  K-Fold # 1  Naive Bayes score: 0.381  Keras score: 0.4575\n",
            "\tCompleted for vocabulary size: 300  K-Fold # 2  Naive Bayes score: 0.3935  Keras score: 0.2973\n",
            "\tCompleted for vocabulary size: 300  K-Fold # 3  Naive Bayes score: 0.4325  Keras score: 0.4003\n",
            "\tCompleted for vocabulary size: 300  K-Fold # 4  Naive Bayes score: 0.4444  Keras score: 0.4724\n",
            "\tCompleted for vocabulary size: 300  K-Fold # 5  Naive Bayes score: 0.5067  Keras score: 0.5082\n",
            "    Completed for vocabulary size: 300  Naive Bayes score: 0.4316  Keras score: 0.4271\n",
            "\tCompleted for vocabulary size: 400  K-Fold # 1  Naive Bayes score: 0.408  Keras score: 0.4733\n",
            "\tCompleted for vocabulary size: 400  K-Fold # 2  Naive Bayes score: 0.4113  Keras score: 0.3569\n",
            "\tCompleted for vocabulary size: 400  K-Fold # 3  Naive Bayes score: 0.4792  Keras score: 0.3963\n",
            "\tCompleted for vocabulary size: 400  K-Fold # 4  Naive Bayes score: 0.4676  Keras score: 0.5364\n",
            "\tCompleted for vocabulary size: 400  K-Fold # 5  Naive Bayes score: 0.5081  Keras score: 0.4687\n",
            "    Completed for vocabulary size: 400  Naive Bayes score: 0.4548  Keras score: 0.4463\n",
            "\tCompleted for vocabulary size: 500  K-Fold # 1  Naive Bayes score: 0.4289  Keras score: 0.5697\n",
            "\tCompleted for vocabulary size: 500  K-Fold # 2  Naive Bayes score: 0.3587  Keras score: 0.339\n",
            "\tCompleted for vocabulary size: 500  K-Fold # 3  Naive Bayes score: 0.4906  Keras score: 0.402\n",
            "\tCompleted for vocabulary size: 500  K-Fold # 4  Naive Bayes score: 0.4586  Keras score: 0.4811\n",
            "\tCompleted for vocabulary size: 500  K-Fold # 5  Naive Bayes score: 0.4607  Keras score: 0.5096\n",
            "    Completed for vocabulary size: 500  Naive Bayes score: 0.4395  Keras score: 0.4603\n",
            "\tCompleted for vocabulary size: 750  K-Fold # 1  Naive Bayes score: 0.4361  Keras score: 0.4461\n",
            "\tCompleted for vocabulary size: 750  K-Fold # 2  Naive Bayes score: 0.4737  Keras score: 0.3225\n",
            "\tCompleted for vocabulary size: 750  K-Fold # 3  Naive Bayes score: 0.4635  Keras score: 0.3807\n",
            "\tCompleted for vocabulary size: 750  K-Fold # 4  Naive Bayes score: 0.4972  Keras score: 0.5316\n",
            "\tCompleted for vocabulary size: 750  K-Fold # 5  Naive Bayes score: 0.4792  Keras score: 0.4809\n",
            "    Completed for vocabulary size: 750  Naive Bayes score: 0.4699  Keras score: 0.4324\n",
            "\tCompleted for vocabulary size: 1000  K-Fold # 1  Naive Bayes score: 0.4273  Keras score: 0.49\n",
            "\tCompleted for vocabulary size: 1000  K-Fold # 2  Naive Bayes score: 0.4433  Keras score: 0.3601\n",
            "\tCompleted for vocabulary size: 1000  K-Fold # 3  Naive Bayes score: 0.4421  Keras score: 0.4053\n",
            "\tCompleted for vocabulary size: 1000  K-Fold # 4  Naive Bayes score: 0.5192  Keras score: 0.5167\n",
            "\tCompleted for vocabulary size: 1000  K-Fold # 5  Naive Bayes score: 0.4815  Keras score: 0.4502\n",
            "    Completed for vocabulary size: 1000  Naive Bayes score: 0.4627  Keras score: 0.4445\n",
            "\tCompleted for vocabulary size: 2000  K-Fold # 1  Naive Bayes score: 0.3756  Keras score: 0.5821\n",
            "\tCompleted for vocabulary size: 2000  K-Fold # 2  Naive Bayes score: 0.3919  Keras score: 0.47\n",
            "\tCompleted for vocabulary size: 2000  K-Fold # 3  Naive Bayes score: 0.4236  Keras score: 0.4047\n",
            "\tCompleted for vocabulary size: 2000  K-Fold # 4  Naive Bayes score: 0.4046  Keras score: 0.5159\n",
            "\tCompleted for vocabulary size: 2000  K-Fold # 5  Naive Bayes score: 0.3902  Keras score: 0.4329\n",
            "    Completed for vocabulary size: 2000  Naive Bayes score: 0.3972  Keras score: 0.4811\n",
            "\tCompleted for vocabulary size: 3000  K-Fold # 1  Naive Bayes score: 0.3786  Keras score: 0.5734\n",
            "\tCompleted for vocabulary size: 3000  K-Fold # 2  Naive Bayes score: 0.3362  Keras score: 0.3986\n",
            "\tCompleted for vocabulary size: 3000  K-Fold # 3  Naive Bayes score: 0.3798  Keras score: 0.4019\n",
            "\tCompleted for vocabulary size: 3000  K-Fold # 4  Naive Bayes score: 0.365  Keras score: 0.5486\n",
            "\tCompleted for vocabulary size: 3000  K-Fold # 5  Naive Bayes score: 0.3676  Keras score: 0.5495\n",
            "    Completed for vocabulary size: 3000  Naive Bayes score: 0.3654  Keras score: 0.4944\n",
            "\tCompleted for vocabulary size: 4000  K-Fold # 1  Naive Bayes score: 0.3958  Keras score: 0.5886\n",
            "\tCompleted for vocabulary size: 4000  K-Fold # 2  Naive Bayes score: 0.3439  Keras score: 0.4382\n",
            "\tCompleted for vocabulary size: 4000  K-Fold # 3  Naive Bayes score: 0.3223  Keras score: 0.4114\n",
            "\tCompleted for vocabulary size: 4000  K-Fold # 4  Naive Bayes score: 0.3218  Keras score: 0.4901\n",
            "\tCompleted for vocabulary size: 4000  K-Fold # 5  Naive Bayes score: 0.3179  Keras score: 0.4771\n",
            "    Completed for vocabulary size: 4000  Naive Bayes score: 0.3403  Keras score: 0.4811\n",
            "\tCompleted for vocabulary size: 5000  K-Fold # 1  Naive Bayes score: 0.334  Keras score: 0.5099\n",
            "\tCompleted for vocabulary size: 5000  K-Fold # 2  Naive Bayes score: 0.3599  Keras score: 0.3781\n",
            "\tCompleted for vocabulary size: 5000  K-Fold # 3  Naive Bayes score: 0.3076  Keras score: 0.4488\n",
            "\tCompleted for vocabulary size: 5000  K-Fold # 4  Naive Bayes score: 0.2998  Keras score: 0.4911\n",
            "\tCompleted for vocabulary size: 5000  K-Fold # 5  Naive Bayes score: 0.3176  Keras score: 0.4887\n",
            "    Completed for vocabulary size: 5000  Naive Bayes score: 0.3238  Keras score: 0.4633\n",
            "\tCompleted for vocabulary size: 6000  K-Fold # 1  Naive Bayes score: 0.3058  Keras score: 0.5001\n",
            "\tCompleted for vocabulary size: 6000  K-Fold # 2  Naive Bayes score: 0.337  Keras score: 0.4521\n",
            "\tCompleted for vocabulary size: 6000  K-Fold # 3  Naive Bayes score: 0.3094  Keras score: 0.4405\n",
            "\tCompleted for vocabulary size: 6000  K-Fold # 4  Naive Bayes score: 0.288  Keras score: 0.5109\n",
            "\tCompleted for vocabulary size: 6000  K-Fold # 5  Naive Bayes score: 0.3132  Keras score: 0.4227\n",
            "    Completed for vocabulary size: 6000  Naive Bayes score: 0.3107  Keras score: 0.4653\n",
            "\tCompleted for vocabulary size: 7000  K-Fold # 1  Naive Bayes score: 0.3111  Keras score: 0.5689\n",
            "\tCompleted for vocabulary size: 7000  K-Fold # 2  Naive Bayes score: 0.3223  Keras score: 0.3804\n",
            "\tCompleted for vocabulary size: 7000  K-Fold # 3  Naive Bayes score: 0.2957  Keras score: 0.412\n",
            "\tCompleted for vocabulary size: 7000  K-Fold # 4  Naive Bayes score: 0.3202  Keras score: 0.5174\n",
            "\tCompleted for vocabulary size: 7000  K-Fold # 5  Naive Bayes score: 0.3132  Keras score: 0.5202\n",
            "    Completed for vocabulary size: 7000  Naive Bayes score: 0.3125  Keras score: 0.4798\n",
            "\tCompleted for vocabulary size: 8000  K-Fold # 1  Naive Bayes score: 0.3042  Keras score: 0.5102\n",
            "\tCompleted for vocabulary size: 8000  K-Fold # 2  Naive Bayes score: 0.3223  Keras score: 0.4884\n",
            "\tCompleted for vocabulary size: 8000  K-Fold # 3  Naive Bayes score: 0.2859  Keras score: 0.466\n",
            "\tCompleted for vocabulary size: 8000  K-Fold # 4  Naive Bayes score: 0.3223  Keras score: 0.5715\n",
            "\tCompleted for vocabulary size: 8000  K-Fold # 5  Naive Bayes score: 0.3132  Keras score: 0.4301\n",
            "    Completed for vocabulary size: 8000  Naive Bayes score: 0.3096  Keras score: 0.4932\n",
            "\tCompleted for vocabulary size: 9000  K-Fold # 1  Naive Bayes score: 0.3058  Keras score: 0.5132\n",
            "\tCompleted for vocabulary size: 9000  K-Fold # 2  Naive Bayes score: 0.282  Keras score: 0.4142\n",
            "\tCompleted for vocabulary size: 9000  K-Fold # 3  Naive Bayes score: 0.28  Keras score: 0.3992\n",
            "\tCompleted for vocabulary size: 9000  K-Fold # 4  Naive Bayes score: 0.2833  Keras score: 0.5596\n",
            "\tCompleted for vocabulary size: 9000  K-Fold # 5  Naive Bayes score: 0.3154  Keras score: 0.4451\n",
            "    Completed for vocabulary size: 9000  Naive Bayes score: 0.2933  Keras score: 0.4663\n",
            "\tCompleted for vocabulary size: 10000  K-Fold # 1  Naive Bayes score: 0.2941  Keras score: 0.4957\n",
            "\tCompleted for vocabulary size: 10000  K-Fold # 2  Naive Bayes score: 0.2809  Keras score: 0.4226\n",
            "\tCompleted for vocabulary size: 10000  K-Fold # 3  Naive Bayes score: 0.2821  Keras score: 0.403\n",
            "\tCompleted for vocabulary size: 10000  K-Fold # 4  Naive Bayes score: 0.2488  Keras score: 0.6231\n",
            "\tCompleted for vocabulary size: 10000  K-Fold # 5  Naive Bayes score: 0.281  Keras score: 0.495\n",
            "    Completed for vocabulary size: 10000  Naive Bayes score: 0.2774  Keras score: 0.4879\n",
            "Total time elapsed: 0:37:47.593637\n"
          ],
          "name": "stdout"
        },
        {
          "output_type": "execute_result",
          "data": {
            "text/html": [
              "<div>\n",
              "<style scoped>\n",
              "    .dataframe tbody tr th:only-of-type {\n",
              "        vertical-align: middle;\n",
              "    }\n",
              "\n",
              "    .dataframe tbody tr th {\n",
              "        vertical-align: top;\n",
              "    }\n",
              "\n",
              "    .dataframe thead th {\n",
              "        text-align: right;\n",
              "    }\n",
              "</style>\n",
              "<table border=\"1\" class=\"dataframe\">\n",
              "  <thead>\n",
              "    <tr style=\"text-align: right;\">\n",
              "      <th></th>\n",
              "      <th>Vārdnīcas izmērs</th>\n",
              "      <th>Naive Bayes</th>\n",
              "      <th>2 slāņu neironu tīkls</th>\n",
              "    </tr>\n",
              "  </thead>\n",
              "  <tbody>\n",
              "    <tr>\n",
              "      <th>0</th>\n",
              "      <td>100</td>\n",
              "      <td>0.3173</td>\n",
              "      <td>0.3538</td>\n",
              "    </tr>\n",
              "    <tr>\n",
              "      <th>1</th>\n",
              "      <td>200</td>\n",
              "      <td>0.3350</td>\n",
              "      <td>0.3705</td>\n",
              "    </tr>\n",
              "    <tr>\n",
              "      <th>2</th>\n",
              "      <td>300</td>\n",
              "      <td>0.4316</td>\n",
              "      <td>0.4271</td>\n",
              "    </tr>\n",
              "    <tr>\n",
              "      <th>3</th>\n",
              "      <td>400</td>\n",
              "      <td>0.4548</td>\n",
              "      <td>0.4463</td>\n",
              "    </tr>\n",
              "    <tr>\n",
              "      <th>4</th>\n",
              "      <td>500</td>\n",
              "      <td>0.4395</td>\n",
              "      <td>0.4603</td>\n",
              "    </tr>\n",
              "    <tr>\n",
              "      <th>5</th>\n",
              "      <td>750</td>\n",
              "      <td>0.4699</td>\n",
              "      <td>0.4324</td>\n",
              "    </tr>\n",
              "    <tr>\n",
              "      <th>6</th>\n",
              "      <td>1000</td>\n",
              "      <td>0.4627</td>\n",
              "      <td>0.4445</td>\n",
              "    </tr>\n",
              "    <tr>\n",
              "      <th>7</th>\n",
              "      <td>2000</td>\n",
              "      <td>0.3972</td>\n",
              "      <td>0.4811</td>\n",
              "    </tr>\n",
              "    <tr>\n",
              "      <th>8</th>\n",
              "      <td>3000</td>\n",
              "      <td>0.3654</td>\n",
              "      <td>0.4944</td>\n",
              "    </tr>\n",
              "    <tr>\n",
              "      <th>9</th>\n",
              "      <td>4000</td>\n",
              "      <td>0.3403</td>\n",
              "      <td>0.4811</td>\n",
              "    </tr>\n",
              "    <tr>\n",
              "      <th>10</th>\n",
              "      <td>5000</td>\n",
              "      <td>0.3238</td>\n",
              "      <td>0.4633</td>\n",
              "    </tr>\n",
              "    <tr>\n",
              "      <th>11</th>\n",
              "      <td>6000</td>\n",
              "      <td>0.3107</td>\n",
              "      <td>0.4653</td>\n",
              "    </tr>\n",
              "    <tr>\n",
              "      <th>12</th>\n",
              "      <td>7000</td>\n",
              "      <td>0.3125</td>\n",
              "      <td>0.4798</td>\n",
              "    </tr>\n",
              "    <tr>\n",
              "      <th>13</th>\n",
              "      <td>8000</td>\n",
              "      <td>0.3096</td>\n",
              "      <td>0.4932</td>\n",
              "    </tr>\n",
              "    <tr>\n",
              "      <th>14</th>\n",
              "      <td>9000</td>\n",
              "      <td>0.2933</td>\n",
              "      <td>0.4663</td>\n",
              "    </tr>\n",
              "    <tr>\n",
              "      <th>15</th>\n",
              "      <td>10000</td>\n",
              "      <td>0.2774</td>\n",
              "      <td>0.4879</td>\n",
              "    </tr>\n",
              "  </tbody>\n",
              "</table>\n",
              "</div>"
            ],
            "text/plain": [
              "    Vārdnīcas izmērs  Naive Bayes  2 slāņu neironu tīkls\n",
              "0                100       0.3173                 0.3538\n",
              "1                200       0.3350                 0.3705\n",
              "2                300       0.4316                 0.4271\n",
              "3                400       0.4548                 0.4463\n",
              "4                500       0.4395                 0.4603\n",
              "5                750       0.4699                 0.4324\n",
              "6               1000       0.4627                 0.4445\n",
              "7               2000       0.3972                 0.4811\n",
              "8               3000       0.3654                 0.4944\n",
              "9               4000       0.3403                 0.4811\n",
              "10              5000       0.3238                 0.4633\n",
              "11              6000       0.3107                 0.4653\n",
              "12              7000       0.3125                 0.4798\n",
              "13              8000       0.3096                 0.4932\n",
              "14              9000       0.2933                 0.4663\n",
              "15             10000       0.2774                 0.4879"
            ]
          },
          "metadata": {
            "tags": []
          },
          "execution_count": 18
        }
      ]
    }
  ]
}