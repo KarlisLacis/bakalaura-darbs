{
  "nbformat": 4,
  "nbformat_minor": 0,
  "metadata": {
    "colab": {
      "name": "2020_05_23_pamatdatu_eksperimenti_BERT_FastText.ipynb",
      "provenance": [],
      "collapsed_sections": []
    },
    "kernelspec": {
      "name": "python3",
      "display_name": "Python 3"
    }
  },
  "cells": [
    {
      "cell_type": "code",
      "metadata": {
        "id": "fTdzCmc9sAc5",
        "colab_type": "code",
        "colab": {}
      },
      "source": [
        "from google.colab import drive\n",
        "drive.mount('/gdrive')"
      ],
      "execution_count": 0,
      "outputs": []
    },
    {
      "cell_type": "code",
      "metadata": {
        "id": "uOAwXAVzsYn2",
        "colab_type": "code",
        "colab": {}
      },
      "source": [
        "import warnings\n",
        "import pandas as pd\n",
        "import numpy as np\n",
        "import datetime\n",
        "from sklearn.naive_bayes import MultinomialNB\n",
        "from sklearn.metrics import f1_score, confusion_matrix, plot_confusion_matrix\n",
        "from sklearn.model_selection import train_test_split, StratifiedKFold\n",
        "from keras.preprocessing import text\n",
        "from keras import models, layers"
      ],
      "execution_count": 0,
      "outputs": []
    },
    {
      "cell_type": "markdown",
      "metadata": {
        "id": "ymMADDLSkazr",
        "colab_type": "text"
      },
      "source": [
        "<h3>Nepapildinātie dati</h3>"
      ]
    },
    {
      "cell_type": "code",
      "metadata": {
        "id": "F4s2kZg3snUU",
        "colab_type": "code",
        "outputId": "d230d047-e00f-4bda-c696-ad010330a140",
        "colab": {
          "base_uri": "https://localhost:8080/",
          "height": 85
        }
      },
      "source": [
        "warnings.filterwarnings('ignore')\n",
        "%cd '/gdrive/My Drive/LU/LU DF/8. semestris/Bakalaura Darbs/Datasets'\n",
        "fasttext_data         = pd.read_csv('2020_05_19_encoded_Fasttext_sakotnejie.csv', index_col=0)\n",
        "%cd '/gdrive/My Drive/LU/LU DF/8. semestris/Bakalaura Darbs/Datasets/BERT_encoded'\n",
        "bert_big_data         = pd.read_csv('Encoded_labeled_BERT_big.csv', index_col=0)\n",
        "bert_multi_cased_data = pd.read_csv('Encoded_labeled_BERT_multi_cased.csv', index_col=0)\n",
        "bert_small_2_data     = pd.read_csv('Encoded_labeled_BERT_small_other.csv', index_col=0)\n",
        "bert_small_data       = pd.read_csv('Encoded_labeled_BERT_small.csv', index_col=0)\n",
        "print('FastText iekodētā datu kopa:', fasttext_data.shape)\n",
        "print('BERT 1 dati:', bert_small_data.shape, 'BERT 2 dati:',  bert_small_2_data.shape, 'BERT 3 dati:', bert_multi_cased_data.shape, 'BERT 4 dati:', bert_big_data.shape)"
      ],
      "execution_count": 0,
      "outputs": [
        {
          "output_type": "stream",
          "text": [
            "/gdrive/My Drive/LU/LU DF/8. semestris/Bakalaura Darbs/Datasets\n",
            "/gdrive/My Drive/LU/LU DF/8. semestris/Bakalaura Darbs/Datasets/BERT_encoded\n",
            "FastText iekodētā datu kopa: (23217, 301)\n",
            "BERT 1 dati: (23217, 257) BERT 2 dati: (23217, 257) BERT 3 dati: (23217, 769) BERT 4 dati: (23217, 769)\n"
          ],
          "name": "stdout"
        }
      ]
    },
    {
      "cell_type": "code",
      "metadata": {
        "id": "yhyIKKvospAd",
        "colab_type": "code",
        "colab": {}
      },
      "source": [
        "def transformResults(results):            # funkcija, kas pārvērš saņemtus rezultātus, izvēloties populārākās klases indeksu katrā masīva rindā\n",
        "    mod_results = []\n",
        "    for result in results:\n",
        "        out = np.argmax(result)\n",
        "        mod_results.append(out)\n",
        "    mod_results = np.array(mod_results)  \n",
        "    return mod_results "
      ],
      "execution_count": 0,
      "outputs": []
    },
    {
      "cell_type": "code",
      "metadata": {
        "id": "PLn3ddyhss8M",
        "colab_type": "code",
        "outputId": "313325e8-74e0-43a2-ca61-c7876d9985fe",
        "colab": {
          "base_uri": "https://localhost:8080/",
          "height": 34
        }
      },
      "source": [
        "indices       = range(4)\n",
        "dataset_list = [bert_small_2_data, bert_small_data, bert_multi_cased_data, bert_big_data, fasttext_data]\n",
        "model_names  = ['BERT small #2', 'BERT small', 'BERT multi cased', 'BERT big', 'FastText']\n",
        "n_split = 5\n",
        "counter = 0\n",
        "batch_size = 64\n",
        "epochs = 5  \n",
        "results1 = []\n",
        "header_row = ['Modelis', 'Vidējais F1']\n",
        "results1.append(header_row)\n",
        "%cd '/gdrive/My Drive/LU/LU DF/8. semestris/Bakalaura Darbs/Rezultāti'"
      ],
      "execution_count": 0,
      "outputs": [
        {
          "output_type": "stream",
          "text": [
            "/gdrive/My Drive/LU/LU DF/8. semestris/Bakalaura Darbs/Rezultāti\n"
          ],
          "name": "stdout"
        }
      ]
    },
    {
      "cell_type": "code",
      "metadata": {
        "id": "-wOgGkEjtKAU",
        "colab_type": "code",
        "outputId": "2d309732-d5e6-4e9b-b895-0706a1cff079",
        "colab": {
          "base_uri": "https://localhost:8080/",
          "height": 816
        }
      },
      "source": [
        "exec_start = datetime.datetime.now()\n",
        "for dataset in dataset_list:\n",
        "  print(model_names[counter])\n",
        "  result_row = []\n",
        "  result_row.append(model_names[counter])\n",
        "  col_count = len(dataset.columns)                                                # Veicam datu kopas dimensionalitātes saglabāšanu\n",
        "  features = dataset.iloc[:,:col_count-1]                                         # Jautājumu reprezentācijas\n",
        "  target = dataset.iloc[:,col_count-1:]                                           # Jautājumu kategorijas\n",
        "  features = features.to_numpy()                                                  # Tipu maiņa ērtākai tālākai darbībai\n",
        "  target = target.to_numpy()\n",
        "\n",
        "  model_f1_scores = []\n",
        "  fold_counter = 0\n",
        "  for train_index,test_index in StratifiedKFold(n_split).split(features, target):   # 5-Fold validācija \n",
        "    x_train, x_test  = features[train_index], features[test_index]                  # Izveidojam jautājumu kopas sadalījumu\n",
        "    y_train, y_test  = target[train_index], target[test_index]                      # Izveidojam kategorijas kopas sadalījumu\n",
        "     \n",
        "    model = models.Sequential()                                                     # Izveidojam Neironu tīkla modeli\n",
        "    model.add(layers.Dense(256, activation='relu', input_shape=(col_count-1,)))\n",
        "    model.add(layers.Dense(64, activation='relu'))\n",
        "    model.add(layers.Dense(4, activation='softmax'))\n",
        "    model.compile(loss=['sparse_categorical_crossentropy'],\n",
        "                    optimizer='adam',\n",
        "                    metrics=['sparse_categorical_accuracy'])\n",
        "    history = model.fit(x_train, y_train,                                         # Veicam modeļa trenēšanu, izmantojot kombinēto datu kopu\n",
        "                        batch_size=batch_size,epochs=epochs,verbose=0)\n",
        "    y_pred = model.predict(x_test)                                                # Prasam modelim paredzēt testa datiem kategorijas\n",
        "    y_pred2 = transformResults(y_pred)                                            # Pārveidojam rezultātus\n",
        "\n",
        "    model_f1_avg = round(f1_score(y_test, y_pred2, average='macro'),4)            # Fiksējam f1 vidējo rezultātu kārtējā K-Foldā\n",
        "    model_f1_scores.append(model_f1_avg)\n",
        "    fold_counter = fold_counter + 1\n",
        "    print('\\t\\tCompleted for model: ',model_names[counter],' K-Fold #', fold_counter, 'F1 score:', model_f1_avg)\n",
        "  # After K-Fold validation\n",
        "  model_f1 = round(np.mean(model_f1_scores), 4)\n",
        "  result_row.append(model_f1)\n",
        "  print('\\tCompleted for:', model_names[counter],' with F1 score:',model_f1)  \n",
        "  results1.append(result_row)\n",
        "  counter = counter + 1\n",
        "\n",
        "#In the very end - fix the execution time\n",
        "exec_end = datetime.datetime.now()\n",
        "exec_elapsed = exec_end - exec_start\n",
        "print('Total time elapsed:', exec_elapsed)\n",
        "\n",
        "# Saglabājam visus rezultātus\n",
        "result_data = pd.DataFrame(results1[1:], columns=results1[0])\n",
        "result_data.to_csv('2020_05_23_BERT_FastText_pamatdati.csv')\n",
        "result_data     "
      ],
      "execution_count": 0,
      "outputs": [
        {
          "output_type": "stream",
          "text": [
            "BERT small #2\n",
            "\t\tCompleted for model:  BERT small #2  K-Fold # 1 F1 score: 0.4483\n",
            "\t\tCompleted for model:  BERT small #2  K-Fold # 2 F1 score: 0.286\n",
            "\t\tCompleted for model:  BERT small #2  K-Fold # 3 F1 score: 0.2875\n",
            "\t\tCompleted for model:  BERT small #2  K-Fold # 4 F1 score: 0.269\n",
            "\t\tCompleted for model:  BERT small #2  K-Fold # 5 F1 score: 0.39\n",
            "\tCompleted for: BERT small #2  with F1 score: 0.3362\n",
            "BERT small\n",
            "\t\tCompleted for model:  BERT small  K-Fold # 1 F1 score: 0.4384\n",
            "\t\tCompleted for model:  BERT small  K-Fold # 2 F1 score: 0.2893\n",
            "\t\tCompleted for model:  BERT small  K-Fold # 3 F1 score: 0.3347\n",
            "\t\tCompleted for model:  BERT small  K-Fold # 4 F1 score: 0.4604\n",
            "\t\tCompleted for model:  BERT small  K-Fold # 5 F1 score: 0.3741\n",
            "\tCompleted for: BERT small  with F1 score: 0.3794\n",
            "BERT multi cased\n",
            "\t\tCompleted for model:  BERT multi cased  K-Fold # 1 F1 score: 0.3156\n",
            "\t\tCompleted for model:  BERT multi cased  K-Fold # 2 F1 score: 0.3204\n",
            "\t\tCompleted for model:  BERT multi cased  K-Fold # 3 F1 score: 0.3773\n",
            "\t\tCompleted for model:  BERT multi cased  K-Fold # 4 F1 score: 0.4788\n",
            "\t\tCompleted for model:  BERT multi cased  K-Fold # 5 F1 score: 0.34\n",
            "\tCompleted for: BERT multi cased  with F1 score: 0.3664\n",
            "BERT big\n",
            "\t\tCompleted for model:  BERT big  K-Fold # 1 F1 score: 0.4848\n",
            "\t\tCompleted for model:  BERT big  K-Fold # 2 F1 score: 0.3552\n",
            "\t\tCompleted for model:  BERT big  K-Fold # 3 F1 score: 0.4031\n",
            "\t\tCompleted for model:  BERT big  K-Fold # 4 F1 score: 0.4948\n",
            "\t\tCompleted for model:  BERT big  K-Fold # 5 F1 score: 0.3955\n",
            "\tCompleted for: BERT big  with F1 score: 0.4267\n",
            "FastText\n",
            "\t\tCompleted for model:  FastText  K-Fold # 1 F1 score: 0.4203\n",
            "\t\tCompleted for model:  FastText  K-Fold # 2 F1 score: 0.3347\n",
            "\t\tCompleted for model:  FastText  K-Fold # 3 F1 score: 0.4091\n",
            "\t\tCompleted for model:  FastText  K-Fold # 4 F1 score: 0.412\n",
            "\t\tCompleted for model:  FastText  K-Fold # 5 F1 score: 0.419\n",
            "\tCompleted for: FastText  with F1 score: 0.399\n",
            "Total time elapsed: 0:02:20.117916\n"
          ],
          "name": "stdout"
        },
        {
          "output_type": "execute_result",
          "data": {
            "text/html": [
              "<div>\n",
              "<style scoped>\n",
              "    .dataframe tbody tr th:only-of-type {\n",
              "        vertical-align: middle;\n",
              "    }\n",
              "\n",
              "    .dataframe tbody tr th {\n",
              "        vertical-align: top;\n",
              "    }\n",
              "\n",
              "    .dataframe thead th {\n",
              "        text-align: right;\n",
              "    }\n",
              "</style>\n",
              "<table border=\"1\" class=\"dataframe\">\n",
              "  <thead>\n",
              "    <tr style=\"text-align: right;\">\n",
              "      <th></th>\n",
              "      <th>Modelis</th>\n",
              "      <th>Vidējais F1</th>\n",
              "    </tr>\n",
              "  </thead>\n",
              "  <tbody>\n",
              "    <tr>\n",
              "      <th>0</th>\n",
              "      <td>BERT small #2</td>\n",
              "      <td>0.3362</td>\n",
              "    </tr>\n",
              "    <tr>\n",
              "      <th>1</th>\n",
              "      <td>BERT small</td>\n",
              "      <td>0.3794</td>\n",
              "    </tr>\n",
              "    <tr>\n",
              "      <th>2</th>\n",
              "      <td>BERT multi cased</td>\n",
              "      <td>0.3664</td>\n",
              "    </tr>\n",
              "    <tr>\n",
              "      <th>3</th>\n",
              "      <td>BERT big</td>\n",
              "      <td>0.4267</td>\n",
              "    </tr>\n",
              "    <tr>\n",
              "      <th>4</th>\n",
              "      <td>FastText</td>\n",
              "      <td>0.3990</td>\n",
              "    </tr>\n",
              "  </tbody>\n",
              "</table>\n",
              "</div>"
            ],
            "text/plain": [
              "            Modelis  Vidējais F1\n",
              "0     BERT small #2       0.3362\n",
              "1        BERT small       0.3794\n",
              "2  BERT multi cased       0.3664\n",
              "3          BERT big       0.4267\n",
              "4          FastText       0.3990"
            ]
          },
          "metadata": {
            "tags": []
          },
          "execution_count": 8
        }
      ]
    },
    {
      "cell_type": "markdown",
      "metadata": {
        "id": "G0TqdMymx3oK",
        "colab_type": "text"
      },
      "source": [
        "<h2>Papildinātie dati</h2>"
      ]
    },
    {
      "cell_type": "code",
      "metadata": {
        "colab_type": "code",
        "outputId": "992e381e-5503-417b-a80f-697df6d7ef3d",
        "id": "quHWOc96x7EK",
        "colab": {
          "base_uri": "https://localhost:8080/",
          "height": 85
        }
      },
      "source": [
        "warnings.filterwarnings('ignore')\n",
        "%cd '/gdrive/My Drive/LU/LU DF/8. semestris/Bakalaura Darbs/Datasets'\n",
        "fasttext_data         = pd.read_csv('2020_05_09_encoded_Fasttext.csv', index_col=0)\n",
        "%cd '/gdrive/My Drive/LU/LU DF/8. semestris/Bakalaura Darbs/Datasets/BERT_encoded'\n",
        "bert_big_data         = pd.read_csv('2020_05_10_encoded_BERT_big.csv', index_col=0)\n",
        "bert_multi_cased_data = pd.read_csv('2020_05_10_encoded_BERT_multi_cased.csv', index_col=0)\n",
        "bert_small_2_data     = pd.read_csv('2020_05_10_encoded_BERT_small_2.csv', index_col=0)\n",
        "bert_small_data       = pd.read_csv('2020_05_10_encoded_BERT_small.csv', index_col=0)\n",
        "print('FastText iekodētā datu kopa:', fasttext_data.shape)\n",
        "print('BERT 1 dati:', bert_small_data.shape, 'BERT 2 dati:',  bert_small_2_data.shape, 'BERT 3 dati:', bert_multi_cased_data.shape, 'BERT 4 dati:', bert_big_data.shape)"
      ],
      "execution_count": 0,
      "outputs": [
        {
          "output_type": "stream",
          "text": [
            "/gdrive/My Drive/LU/LU DF/8. semestris/Bakalaura Darbs/Datasets\n",
            "/gdrive/My Drive/LU/LU DF/8. semestris/Bakalaura Darbs/Datasets/BERT_encoded\n",
            "FastText iekodētā datu kopa: (23391, 301)\n",
            "BERT 1 dati: (23391, 257) BERT 2 dati: (23391, 257) BERT 3 dati: (23391, 769) BERT 4 dati: (23391, 769)\n"
          ],
          "name": "stdout"
        }
      ]
    },
    {
      "cell_type": "code",
      "metadata": {
        "colab_type": "code",
        "outputId": "351f4c4b-6841-43e4-afb0-e6f838c7bb20",
        "id": "115baSdix7EZ",
        "colab": {
          "base_uri": "https://localhost:8080/",
          "height": 34
        }
      },
      "source": [
        "indices       = range(4)\n",
        "dataset_list = [bert_small_2_data, bert_small_data, bert_multi_cased_data, bert_big_data, fasttext_data]\n",
        "model_names  = ['BERT small #2', 'BERT small', 'BERT multi cased', 'BERT big', 'FastText']\n",
        "n_split = 5\n",
        "counter = 0\n",
        "batch_size = 64\n",
        "epochs = 5  \n",
        "results1 = []\n",
        "header_row = ['Modelis', 'Vidējais F1']\n",
        "results1.append(header_row)\n",
        "%cd '/gdrive/My Drive/LU/LU DF/8. semestris/Bakalaura Darbs/Rezultāti'"
      ],
      "execution_count": 0,
      "outputs": [
        {
          "output_type": "stream",
          "text": [
            "/gdrive/My Drive/LU/LU DF/8. semestris/Bakalaura Darbs/Rezultāti\n"
          ],
          "name": "stdout"
        }
      ]
    },
    {
      "cell_type": "code",
      "metadata": {
        "colab_type": "code",
        "outputId": "824d40e2-3c86-4e5c-de5c-124b74c7af4e",
        "id": "zptT9M18x7Eh",
        "colab": {
          "base_uri": "https://localhost:8080/",
          "height": 816
        }
      },
      "source": [
        "exec_start = datetime.datetime.now()\n",
        "for dataset in dataset_list:\n",
        "  print(model_names[counter])\n",
        "  result_row = []\n",
        "  result_row.append(model_names[counter])\n",
        "  col_count = len(dataset.columns)                                                # Veicam datu kopas dimensionalitātes saglabāšanu\n",
        "  features = dataset.iloc[:,:col_count-1]                                         # Jautājumu reprezentācijas\n",
        "  target = dataset.iloc[:,col_count-1:]                                           # Jautājumu kategorijas\n",
        "  features = features.to_numpy()                                                  # Tipu maiņa ērtākai tālākai darbībai\n",
        "  target = target.to_numpy()\n",
        "\n",
        "  model_f1_scores = []\n",
        "  fold_counter = 0\n",
        "  for train_index,test_index in StratifiedKFold(n_split).split(features, target):   # 5-Fold validācija \n",
        "    x_train, x_test  = features[train_index], features[test_index]                  # Izveidojam jautājumu kopas sadalījumu\n",
        "    y_train, y_test  = target[train_index], target[test_index]                      # Izveidojam kategorijas kopas sadalījumu\n",
        "     \n",
        "    model = models.Sequential()                                                     # Izveidojam Neironu tīkla modeli\n",
        "    model.add(layers.Dense(256, activation='relu', input_shape=(col_count-1,)))\n",
        "    model.add(layers.Dense(64, activation='relu'))\n",
        "    model.add(layers.Dense(4, activation='softmax'))\n",
        "    model.compile(loss=['sparse_categorical_crossentropy'],\n",
        "                    optimizer='adam',\n",
        "                    metrics=['sparse_categorical_accuracy'])\n",
        "    history = model.fit(x_train, y_train,                                         # Veicam modeļa trenēšanu, izmantojot kombinēto datu kopu\n",
        "                        batch_size=batch_size,epochs=epochs,verbose=0)\n",
        "    y_pred = model.predict(x_test)                                                # Prasam modelim paredzēt testa datiem kategorijas\n",
        "    y_pred2 = transformResults(y_pred)                                            # Pārveidojam rezultātus\n",
        "\n",
        "    model_f1_avg = round(f1_score(y_test, y_pred2, average='macro'),4)            # Fiksējam f1 vidējo rezultātu kārtējā K-Foldā\n",
        "    model_f1_scores.append(model_f1_avg)\n",
        "    fold_counter = fold_counter + 1\n",
        "    print('\\t\\tCompleted for model: ',model_names[counter],' K-Fold #', fold_counter, 'F1 score:', model_f1_avg)\n",
        "  # After K-Fold validation\n",
        "  model_f1 = round(np.mean(model_f1_scores), 4)\n",
        "  result_row.append(model_f1)\n",
        "  print('\\tCompleted for:', model_names[counter],' with F1 score:',model_f1)  \n",
        "  results1.append(result_row)\n",
        "  counter = counter + 1\n",
        "\n",
        "#In the very end - fix the execution time\n",
        "exec_end = datetime.datetime.now()\n",
        "exec_elapsed = exec_end - exec_start\n",
        "print('Total time elapsed:', exec_elapsed)\n",
        "\n",
        "# Saglabājam visus rezultātus\n",
        "result_data = pd.DataFrame(results1[1:], columns=results1[0])\n",
        "result_data.to_csv('2020_05_23_BERT_FastText_papildinatie.csv')\n",
        "result_data     "
      ],
      "execution_count": 0,
      "outputs": [
        {
          "output_type": "stream",
          "text": [
            "BERT small #2\n",
            "\t\tCompleted for model:  BERT small #2  K-Fold # 1 F1 score: 0.4159\n",
            "\t\tCompleted for model:  BERT small #2  K-Fold # 2 F1 score: 0.3381\n",
            "\t\tCompleted for model:  BERT small #2  K-Fold # 3 F1 score: 0.6139\n",
            "\t\tCompleted for model:  BERT small #2  K-Fold # 4 F1 score: 0.5601\n",
            "\t\tCompleted for model:  BERT small #2  K-Fold # 5 F1 score: 0.4198\n",
            "\tCompleted for: BERT small #2  with F1 score: 0.4696\n",
            "BERT small\n",
            "\t\tCompleted for model:  BERT small  K-Fold # 1 F1 score: 0.4739\n",
            "\t\tCompleted for model:  BERT small  K-Fold # 2 F1 score: 0.5492\n",
            "\t\tCompleted for model:  BERT small  K-Fold # 3 F1 score: 0.6524\n",
            "\t\tCompleted for model:  BERT small  K-Fold # 4 F1 score: 0.7861\n",
            "\t\tCompleted for model:  BERT small  K-Fold # 5 F1 score: 0.6273\n",
            "\tCompleted for: BERT small  with F1 score: 0.6178\n",
            "BERT multi cased\n",
            "\t\tCompleted for model:  BERT multi cased  K-Fold # 1 F1 score: 0.5337\n",
            "\t\tCompleted for model:  BERT multi cased  K-Fold # 2 F1 score: 0.4634\n",
            "\t\tCompleted for model:  BERT multi cased  K-Fold # 3 F1 score: 0.7183\n",
            "\t\tCompleted for model:  BERT multi cased  K-Fold # 4 F1 score: 0.7624\n",
            "\t\tCompleted for model:  BERT multi cased  K-Fold # 5 F1 score: 0.5487\n",
            "\tCompleted for: BERT multi cased  with F1 score: 0.6053\n",
            "BERT big\n",
            "\t\tCompleted for model:  BERT big  K-Fold # 1 F1 score: 0.5632\n",
            "\t\tCompleted for model:  BERT big  K-Fold # 2 F1 score: 0.49\n",
            "\t\tCompleted for model:  BERT big  K-Fold # 3 F1 score: 0.7538\n",
            "\t\tCompleted for model:  BERT big  K-Fold # 4 F1 score: 0.7343\n",
            "\t\tCompleted for model:  BERT big  K-Fold # 5 F1 score: 0.7482\n",
            "\tCompleted for: BERT big  with F1 score: 0.6579\n",
            "FastText\n",
            "\t\tCompleted for model:  FastText  K-Fold # 1 F1 score: 0.5862\n",
            "\t\tCompleted for model:  FastText  K-Fold # 2 F1 score: 0.5382\n",
            "\t\tCompleted for model:  FastText  K-Fold # 3 F1 score: 0.7964\n",
            "\t\tCompleted for model:  FastText  K-Fold # 4 F1 score: 0.7931\n",
            "\t\tCompleted for model:  FastText  K-Fold # 5 F1 score: 0.6808\n",
            "\tCompleted for: FastText  with F1 score: 0.6789\n",
            "Total time elapsed: 0:02:13.594468\n"
          ],
          "name": "stdout"
        },
        {
          "output_type": "execute_result",
          "data": {
            "text/html": [
              "<div>\n",
              "<style scoped>\n",
              "    .dataframe tbody tr th:only-of-type {\n",
              "        vertical-align: middle;\n",
              "    }\n",
              "\n",
              "    .dataframe tbody tr th {\n",
              "        vertical-align: top;\n",
              "    }\n",
              "\n",
              "    .dataframe thead th {\n",
              "        text-align: right;\n",
              "    }\n",
              "</style>\n",
              "<table border=\"1\" class=\"dataframe\">\n",
              "  <thead>\n",
              "    <tr style=\"text-align: right;\">\n",
              "      <th></th>\n",
              "      <th>Modelis</th>\n",
              "      <th>Vidējais F1</th>\n",
              "    </tr>\n",
              "  </thead>\n",
              "  <tbody>\n",
              "    <tr>\n",
              "      <th>0</th>\n",
              "      <td>BERT small #2</td>\n",
              "      <td>0.4696</td>\n",
              "    </tr>\n",
              "    <tr>\n",
              "      <th>1</th>\n",
              "      <td>BERT small</td>\n",
              "      <td>0.6178</td>\n",
              "    </tr>\n",
              "    <tr>\n",
              "      <th>2</th>\n",
              "      <td>BERT multi cased</td>\n",
              "      <td>0.6053</td>\n",
              "    </tr>\n",
              "    <tr>\n",
              "      <th>3</th>\n",
              "      <td>BERT big</td>\n",
              "      <td>0.6579</td>\n",
              "    </tr>\n",
              "    <tr>\n",
              "      <th>4</th>\n",
              "      <td>FastText</td>\n",
              "      <td>0.6789</td>\n",
              "    </tr>\n",
              "  </tbody>\n",
              "</table>\n",
              "</div>"
            ],
            "text/plain": [
              "            Modelis  Vidējais F1\n",
              "0     BERT small #2       0.4696\n",
              "1        BERT small       0.6178\n",
              "2  BERT multi cased       0.6053\n",
              "3          BERT big       0.6579\n",
              "4          FastText       0.6789"
            ]
          },
          "metadata": {
            "tags": []
          },
          "execution_count": 11
        }
      ]
    }
  ]
}